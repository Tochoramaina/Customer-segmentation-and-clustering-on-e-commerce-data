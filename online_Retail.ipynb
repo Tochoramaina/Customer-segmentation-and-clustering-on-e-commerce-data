{
 "cells": [
  {
   "cell_type": "markdown",
   "metadata": {},
   "source": [
    "                             RFM Analysis and KMeans clustering"
   ]
  },
  {
   "cell_type": "markdown",
   "metadata": {},
   "source": [
    "           Table of contents"
   ]
  },
  {
   "cell_type": "markdown",
   "metadata": {},
   "source": [
    "1. importing prerequisite libraries\n",
    "2. uploading our dataset\n",
    "3. Descriptive statistics\n",
    "5. Data Visualisation and analysis \n",
    "6. RFM analysis \n",
    "7. Normalization of the data\n",
    "8. Kmeans clustering of the RFM"
   ]
  },
  {
   "cell_type": "code",
   "execution_count": null,
   "metadata": {},
   "outputs": [],
   "source": [
    "import pandas as pd \n",
    "import seaborn as sns \n",
    "import numpy as np \n",
    "import matplotlib.pyplot as plt\n",
    "from scipy import stats \n",
    "from sklearn.preprocessing import StandardScaler\n",
    "from sklearn.cluster import KMeans"
   ]
  },
  {
   "cell_type": "markdown",
   "metadata": {},
   "source": [
    "Uploading our dataset from a local directory. It can be downloaded from www.kaggle.com"
   ]
  },
  {
   "cell_type": "code",
   "execution_count": 2,
   "metadata": {},
   "outputs": [
    {
     "data": {
      "text/html": [
       "<div>\n",
       "<style scoped>\n",
       "    .dataframe tbody tr th:only-of-type {\n",
       "        vertical-align: middle;\n",
       "    }\n",
       "\n",
       "    .dataframe tbody tr th {\n",
       "        vertical-align: top;\n",
       "    }\n",
       "\n",
       "    .dataframe thead th {\n",
       "        text-align: right;\n",
       "    }\n",
       "</style>\n",
       "<table border=\"1\" class=\"dataframe\">\n",
       "  <thead>\n",
       "    <tr style=\"text-align: right;\">\n",
       "      <th></th>\n",
       "      <th>Order Date</th>\n",
       "      <th>Row ID</th>\n",
       "      <th>Order ID</th>\n",
       "      <th>Ship Mode</th>\n",
       "      <th>Customer ID</th>\n",
       "      <th>Segment</th>\n",
       "      <th>Country</th>\n",
       "      <th>City</th>\n",
       "      <th>State</th>\n",
       "      <th>Postal Code</th>\n",
       "      <th>Region</th>\n",
       "      <th>Product ID</th>\n",
       "      <th>Category</th>\n",
       "      <th>Sub-Category</th>\n",
       "      <th>Product Name</th>\n",
       "      <th>Sales</th>\n",
       "      <th>Quantity</th>\n",
       "      <th>Discount</th>\n",
       "      <th>Profit</th>\n",
       "    </tr>\n",
       "  </thead>\n",
       "  <tbody>\n",
       "    <tr>\n",
       "      <th>0</th>\n",
       "      <td>01-01-20</td>\n",
       "      <td>849</td>\n",
       "      <td>CA-2017-107503</td>\n",
       "      <td>Standard Class</td>\n",
       "      <td>GA-14725</td>\n",
       "      <td>Consumer</td>\n",
       "      <td>United States</td>\n",
       "      <td>Lorain</td>\n",
       "      <td>Ohio</td>\n",
       "      <td>44052</td>\n",
       "      <td>East</td>\n",
       "      <td>FUR-FU-10003878</td>\n",
       "      <td>Furniture</td>\n",
       "      <td>Furnishings</td>\n",
       "      <td>Linden 10\" Round Wall Clock, Black</td>\n",
       "      <td>48.896</td>\n",
       "      <td>4</td>\n",
       "      <td>0.2</td>\n",
       "      <td>8.5568</td>\n",
       "    </tr>\n",
       "    <tr>\n",
       "      <th>1</th>\n",
       "      <td>01-01-20</td>\n",
       "      <td>4010</td>\n",
       "      <td>CA-2017-144463</td>\n",
       "      <td>Standard Class</td>\n",
       "      <td>SC-20725</td>\n",
       "      <td>Consumer</td>\n",
       "      <td>United States</td>\n",
       "      <td>Los Angeles</td>\n",
       "      <td>California</td>\n",
       "      <td>90036</td>\n",
       "      <td>West</td>\n",
       "      <td>FUR-FU-10001215</td>\n",
       "      <td>Furniture</td>\n",
       "      <td>Furnishings</td>\n",
       "      <td>Howard Miller 11-1/2\" Diameter Brentwood Wall ...</td>\n",
       "      <td>474.430</td>\n",
       "      <td>11</td>\n",
       "      <td>0.0</td>\n",
       "      <td>199.2606</td>\n",
       "    </tr>\n",
       "    <tr>\n",
       "      <th>2</th>\n",
       "      <td>01-01-20</td>\n",
       "      <td>6683</td>\n",
       "      <td>CA-2017-154466</td>\n",
       "      <td>First Class</td>\n",
       "      <td>DP-13390</td>\n",
       "      <td>Home Office</td>\n",
       "      <td>United States</td>\n",
       "      <td>Franklin</td>\n",
       "      <td>Wisconsin</td>\n",
       "      <td>53132</td>\n",
       "      <td>Central</td>\n",
       "      <td>OFF-BI-10002012</td>\n",
       "      <td>Office Supplies</td>\n",
       "      <td>Binders</td>\n",
       "      <td>Wilson Jones Easy Flow II Sheet Lifters</td>\n",
       "      <td>3.600</td>\n",
       "      <td>2</td>\n",
       "      <td>0.0</td>\n",
       "      <td>1.7280</td>\n",
       "    </tr>\n",
       "    <tr>\n",
       "      <th>3</th>\n",
       "      <td>01-01-20</td>\n",
       "      <td>8070</td>\n",
       "      <td>CA-2017-151750</td>\n",
       "      <td>Standard Class</td>\n",
       "      <td>JM-15250</td>\n",
       "      <td>Consumer</td>\n",
       "      <td>United States</td>\n",
       "      <td>Huntsville</td>\n",
       "      <td>Texas</td>\n",
       "      <td>77340</td>\n",
       "      <td>Central</td>\n",
       "      <td>OFF-ST-10002743</td>\n",
       "      <td>Office Supplies</td>\n",
       "      <td>Storage</td>\n",
       "      <td>SAFCO Boltless Steel Shelving</td>\n",
       "      <td>454.560</td>\n",
       "      <td>5</td>\n",
       "      <td>0.2</td>\n",
       "      <td>-107.9580</td>\n",
       "    </tr>\n",
       "    <tr>\n",
       "      <th>4</th>\n",
       "      <td>01-01-20</td>\n",
       "      <td>8071</td>\n",
       "      <td>CA-2017-151750</td>\n",
       "      <td>Standard Class</td>\n",
       "      <td>JM-15250</td>\n",
       "      <td>Consumer</td>\n",
       "      <td>United States</td>\n",
       "      <td>Huntsville</td>\n",
       "      <td>Texas</td>\n",
       "      <td>77340</td>\n",
       "      <td>Central</td>\n",
       "      <td>FUR-FU-10002116</td>\n",
       "      <td>Furniture</td>\n",
       "      <td>Furnishings</td>\n",
       "      <td>Tenex Carpeted, Granite-Look or Clear Contempo...</td>\n",
       "      <td>141.420</td>\n",
       "      <td>5</td>\n",
       "      <td>0.6</td>\n",
       "      <td>-187.3815</td>\n",
       "    </tr>\n",
       "  </tbody>\n",
       "</table>\n",
       "</div>"
      ],
      "text/plain": [
       "  Order Date  Row ID        Order ID       Ship Mode Customer ID      Segment  \\\n",
       "0   01-01-20     849  CA-2017-107503  Standard Class    GA-14725     Consumer   \n",
       "1   01-01-20    4010  CA-2017-144463  Standard Class    SC-20725     Consumer   \n",
       "2   01-01-20    6683  CA-2017-154466     First Class    DP-13390  Home Office   \n",
       "3   01-01-20    8070  CA-2017-151750  Standard Class    JM-15250     Consumer   \n",
       "4   01-01-20    8071  CA-2017-151750  Standard Class    JM-15250     Consumer   \n",
       "\n",
       "         Country         City       State  Postal Code   Region  \\\n",
       "0  United States       Lorain        Ohio        44052     East   \n",
       "1  United States  Los Angeles  California        90036     West   \n",
       "2  United States     Franklin   Wisconsin        53132  Central   \n",
       "3  United States   Huntsville       Texas        77340  Central   \n",
       "4  United States   Huntsville       Texas        77340  Central   \n",
       "\n",
       "        Product ID         Category Sub-Category  \\\n",
       "0  FUR-FU-10003878        Furniture  Furnishings   \n",
       "1  FUR-FU-10001215        Furniture  Furnishings   \n",
       "2  OFF-BI-10002012  Office Supplies      Binders   \n",
       "3  OFF-ST-10002743  Office Supplies      Storage   \n",
       "4  FUR-FU-10002116        Furniture  Furnishings   \n",
       "\n",
       "                                        Product Name    Sales  Quantity  \\\n",
       "0                 Linden 10\" Round Wall Clock, Black   48.896         4   \n",
       "1  Howard Miller 11-1/2\" Diameter Brentwood Wall ...  474.430        11   \n",
       "2            Wilson Jones Easy Flow II Sheet Lifters    3.600         2   \n",
       "3                      SAFCO Boltless Steel Shelving  454.560         5   \n",
       "4  Tenex Carpeted, Granite-Look or Clear Contempo...  141.420         5   \n",
       "\n",
       "   Discount    Profit  \n",
       "0       0.2    8.5568  \n",
       "1       0.0  199.2606  \n",
       "2       0.0    1.7280  \n",
       "3       0.2 -107.9580  \n",
       "4       0.6 -187.3815  "
      ]
     },
     "execution_count": 2,
     "metadata": {},
     "output_type": "execute_result"
    }
   ],
   "source": [
    "# uploading our dataset\n",
    "df = pd.read_csv(r'../tochora/ddos/popp/US  E-commerce records 2020.csv', encoding='latin1')\n",
    "# displaying its contents\n",
    "df.head()"
   ]
  },
  {
   "cell_type": "markdown",
   "metadata": {},
   "source": [
    "This dataset has columns that have spaces between them thus they need to be renamed to be in a format that can be read by python."
   ]
  },
  {
   "cell_type": "code",
   "execution_count": 13,
   "metadata": {},
   "outputs": [
    {
     "data": {
      "text/html": [
       "<div>\n",
       "<style scoped>\n",
       "    .dataframe tbody tr th:only-of-type {\n",
       "        vertical-align: middle;\n",
       "    }\n",
       "\n",
       "    .dataframe tbody tr th {\n",
       "        vertical-align: top;\n",
       "    }\n",
       "\n",
       "    .dataframe thead th {\n",
       "        text-align: right;\n",
       "    }\n",
       "</style>\n",
       "<table border=\"1\" class=\"dataframe\">\n",
       "  <thead>\n",
       "    <tr style=\"text-align: right;\">\n",
       "      <th></th>\n",
       "      <th>Order_date</th>\n",
       "      <th>Row_ID</th>\n",
       "      <th>Order_ID</th>\n",
       "      <th>Ship_mode</th>\n",
       "      <th>Customer_ID</th>\n",
       "      <th>Segment</th>\n",
       "      <th>Country</th>\n",
       "      <th>City</th>\n",
       "      <th>State</th>\n",
       "      <th>Postal_code</th>\n",
       "      <th>Region</th>\n",
       "      <th>Product_ID</th>\n",
       "      <th>Category</th>\n",
       "      <th>Sub-Category</th>\n",
       "      <th>Product_name</th>\n",
       "      <th>Sales</th>\n",
       "      <th>Quantity</th>\n",
       "      <th>Discount</th>\n",
       "      <th>Profit</th>\n",
       "    </tr>\n",
       "  </thead>\n",
       "  <tbody>\n",
       "    <tr>\n",
       "      <th>0</th>\n",
       "      <td>01-01-20</td>\n",
       "      <td>849</td>\n",
       "      <td>CA-2017-107503</td>\n",
       "      <td>Standard Class</td>\n",
       "      <td>GA-14725</td>\n",
       "      <td>Consumer</td>\n",
       "      <td>United States</td>\n",
       "      <td>Lorain</td>\n",
       "      <td>Ohio</td>\n",
       "      <td>44052</td>\n",
       "      <td>East</td>\n",
       "      <td>FUR-FU-10003878</td>\n",
       "      <td>Furniture</td>\n",
       "      <td>Furnishings</td>\n",
       "      <td>Linden 10\" Round Wall Clock, Black</td>\n",
       "      <td>48.896</td>\n",
       "      <td>4</td>\n",
       "      <td>0.2</td>\n",
       "      <td>8.5568</td>\n",
       "    </tr>\n",
       "    <tr>\n",
       "      <th>1</th>\n",
       "      <td>01-01-20</td>\n",
       "      <td>4010</td>\n",
       "      <td>CA-2017-144463</td>\n",
       "      <td>Standard Class</td>\n",
       "      <td>SC-20725</td>\n",
       "      <td>Consumer</td>\n",
       "      <td>United States</td>\n",
       "      <td>Los Angeles</td>\n",
       "      <td>California</td>\n",
       "      <td>90036</td>\n",
       "      <td>West</td>\n",
       "      <td>FUR-FU-10001215</td>\n",
       "      <td>Furniture</td>\n",
       "      <td>Furnishings</td>\n",
       "      <td>Howard Miller 11-1/2\" Diameter Brentwood Wall ...</td>\n",
       "      <td>474.430</td>\n",
       "      <td>11</td>\n",
       "      <td>0.0</td>\n",
       "      <td>199.2606</td>\n",
       "    </tr>\n",
       "    <tr>\n",
       "      <th>2</th>\n",
       "      <td>01-01-20</td>\n",
       "      <td>6683</td>\n",
       "      <td>CA-2017-154466</td>\n",
       "      <td>First Class</td>\n",
       "      <td>DP-13390</td>\n",
       "      <td>Home Office</td>\n",
       "      <td>United States</td>\n",
       "      <td>Franklin</td>\n",
       "      <td>Wisconsin</td>\n",
       "      <td>53132</td>\n",
       "      <td>Central</td>\n",
       "      <td>OFF-BI-10002012</td>\n",
       "      <td>Office Supplies</td>\n",
       "      <td>Binders</td>\n",
       "      <td>Wilson Jones Easy Flow II Sheet Lifters</td>\n",
       "      <td>3.600</td>\n",
       "      <td>2</td>\n",
       "      <td>0.0</td>\n",
       "      <td>1.7280</td>\n",
       "    </tr>\n",
       "    <tr>\n",
       "      <th>3</th>\n",
       "      <td>01-01-20</td>\n",
       "      <td>8070</td>\n",
       "      <td>CA-2017-151750</td>\n",
       "      <td>Standard Class</td>\n",
       "      <td>JM-15250</td>\n",
       "      <td>Consumer</td>\n",
       "      <td>United States</td>\n",
       "      <td>Huntsville</td>\n",
       "      <td>Texas</td>\n",
       "      <td>77340</td>\n",
       "      <td>Central</td>\n",
       "      <td>OFF-ST-10002743</td>\n",
       "      <td>Office Supplies</td>\n",
       "      <td>Storage</td>\n",
       "      <td>SAFCO Boltless Steel Shelving</td>\n",
       "      <td>454.560</td>\n",
       "      <td>5</td>\n",
       "      <td>0.2</td>\n",
       "      <td>-107.9580</td>\n",
       "    </tr>\n",
       "    <tr>\n",
       "      <th>4</th>\n",
       "      <td>01-01-20</td>\n",
       "      <td>8071</td>\n",
       "      <td>CA-2017-151750</td>\n",
       "      <td>Standard Class</td>\n",
       "      <td>JM-15250</td>\n",
       "      <td>Consumer</td>\n",
       "      <td>United States</td>\n",
       "      <td>Huntsville</td>\n",
       "      <td>Texas</td>\n",
       "      <td>77340</td>\n",
       "      <td>Central</td>\n",
       "      <td>FUR-FU-10002116</td>\n",
       "      <td>Furniture</td>\n",
       "      <td>Furnishings</td>\n",
       "      <td>Tenex Carpeted, Granite-Look or Clear Contempo...</td>\n",
       "      <td>141.420</td>\n",
       "      <td>5</td>\n",
       "      <td>0.6</td>\n",
       "      <td>-187.3815</td>\n",
       "    </tr>\n",
       "    <tr>\n",
       "      <th>5</th>\n",
       "      <td>01-01-20</td>\n",
       "      <td>8072</td>\n",
       "      <td>CA-2017-151750</td>\n",
       "      <td>Standard Class</td>\n",
       "      <td>JM-15250</td>\n",
       "      <td>Consumer</td>\n",
       "      <td>United States</td>\n",
       "      <td>Huntsville</td>\n",
       "      <td>Texas</td>\n",
       "      <td>77340</td>\n",
       "      <td>Central</td>\n",
       "      <td>FUR-CH-10003199</td>\n",
       "      <td>Furniture</td>\n",
       "      <td>Chairs</td>\n",
       "      <td>Office Star - Contemporary Task Swivel Chair</td>\n",
       "      <td>310.744</td>\n",
       "      <td>4</td>\n",
       "      <td>0.3</td>\n",
       "      <td>-26.6352</td>\n",
       "    </tr>\n",
       "    <tr>\n",
       "      <th>6</th>\n",
       "      <td>01-01-20</td>\n",
       "      <td>8073</td>\n",
       "      <td>CA-2017-151750</td>\n",
       "      <td>Standard Class</td>\n",
       "      <td>JM-15250</td>\n",
       "      <td>Consumer</td>\n",
       "      <td>United States</td>\n",
       "      <td>Huntsville</td>\n",
       "      <td>Texas</td>\n",
       "      <td>77340</td>\n",
       "      <td>Central</td>\n",
       "      <td>OFF-AR-10003158</td>\n",
       "      <td>Office Supplies</td>\n",
       "      <td>Art</td>\n",
       "      <td>Fluorescent Highlighters by Dixon</td>\n",
       "      <td>12.736</td>\n",
       "      <td>4</td>\n",
       "      <td>0.2</td>\n",
       "      <td>2.2288</td>\n",
       "    </tr>\n",
       "    <tr>\n",
       "      <th>7</th>\n",
       "      <td>01-01-20</td>\n",
       "      <td>8074</td>\n",
       "      <td>CA-2017-151750</td>\n",
       "      <td>Standard Class</td>\n",
       "      <td>JM-15250</td>\n",
       "      <td>Consumer</td>\n",
       "      <td>United States</td>\n",
       "      <td>Huntsville</td>\n",
       "      <td>Texas</td>\n",
       "      <td>77340</td>\n",
       "      <td>Central</td>\n",
       "      <td>OFF-BI-10000301</td>\n",
       "      <td>Office Supplies</td>\n",
       "      <td>Binders</td>\n",
       "      <td>GBC Instant Report Kit</td>\n",
       "      <td>6.470</td>\n",
       "      <td>5</td>\n",
       "      <td>0.8</td>\n",
       "      <td>-9.7050</td>\n",
       "    </tr>\n",
       "    <tr>\n",
       "      <th>8</th>\n",
       "      <td>01-01-20</td>\n",
       "      <td>8075</td>\n",
       "      <td>CA-2017-151750</td>\n",
       "      <td>Standard Class</td>\n",
       "      <td>JM-15250</td>\n",
       "      <td>Consumer</td>\n",
       "      <td>United States</td>\n",
       "      <td>Huntsville</td>\n",
       "      <td>Texas</td>\n",
       "      <td>77340</td>\n",
       "      <td>Central</td>\n",
       "      <td>OFF-BI-10000343</td>\n",
       "      <td>Office Supplies</td>\n",
       "      <td>Binders</td>\n",
       "      <td>Pressboard Covers with Storage Hooks, 9 1/2\" x...</td>\n",
       "      <td>13.748</td>\n",
       "      <td>14</td>\n",
       "      <td>0.8</td>\n",
       "      <td>-22.6842</td>\n",
       "    </tr>\n",
       "    <tr>\n",
       "      <th>9</th>\n",
       "      <td>01-01-20</td>\n",
       "      <td>8076</td>\n",
       "      <td>CA-2017-151750</td>\n",
       "      <td>Standard Class</td>\n",
       "      <td>JM-15250</td>\n",
       "      <td>Consumer</td>\n",
       "      <td>United States</td>\n",
       "      <td>Huntsville</td>\n",
       "      <td>Texas</td>\n",
       "      <td>77340</td>\n",
       "      <td>Central</td>\n",
       "      <td>OFF-AP-10004708</td>\n",
       "      <td>Office Supplies</td>\n",
       "      <td>Appliances</td>\n",
       "      <td>Fellowes Superior 10 Outlet Split Surge Protector</td>\n",
       "      <td>15.224</td>\n",
       "      <td>2</td>\n",
       "      <td>0.8</td>\n",
       "      <td>-38.8212</td>\n",
       "    </tr>\n",
       "    <tr>\n",
       "      <th>10</th>\n",
       "      <td>02-01-20</td>\n",
       "      <td>1341</td>\n",
       "      <td>CA-2017-113481</td>\n",
       "      <td>First Class</td>\n",
       "      <td>AS-10045</td>\n",
       "      <td>Corporate</td>\n",
       "      <td>United States</td>\n",
       "      <td>Jacksonville</td>\n",
       "      <td>North Carolina</td>\n",
       "      <td>28540</td>\n",
       "      <td>South</td>\n",
       "      <td>TEC-MA-10002178</td>\n",
       "      <td>Technology</td>\n",
       "      <td>Machines</td>\n",
       "      <td>Cisco CP-7937G Unified IP Conference Station P...</td>\n",
       "      <td>695.700</td>\n",
       "      <td>2</td>\n",
       "      <td>0.5</td>\n",
       "      <td>-27.8280</td>\n",
       "    </tr>\n",
       "    <tr>\n",
       "      <th>11</th>\n",
       "      <td>02-01-20</td>\n",
       "      <td>1342</td>\n",
       "      <td>CA-2017-113481</td>\n",
       "      <td>First Class</td>\n",
       "      <td>AS-10045</td>\n",
       "      <td>Corporate</td>\n",
       "      <td>United States</td>\n",
       "      <td>Jacksonville</td>\n",
       "      <td>North Carolina</td>\n",
       "      <td>28540</td>\n",
       "      <td>South</td>\n",
       "      <td>OFF-BI-10003694</td>\n",
       "      <td>Office Supplies</td>\n",
       "      <td>Binders</td>\n",
       "      <td>Avery 3 1/2\" Diskette Storage Pages, 10/Pack</td>\n",
       "      <td>15.660</td>\n",
       "      <td>5</td>\n",
       "      <td>0.7</td>\n",
       "      <td>-12.5280</td>\n",
       "    </tr>\n",
       "    <tr>\n",
       "      <th>12</th>\n",
       "      <td>02-01-20</td>\n",
       "      <td>1343</td>\n",
       "      <td>CA-2017-113481</td>\n",
       "      <td>First Class</td>\n",
       "      <td>AS-10045</td>\n",
       "      <td>Corporate</td>\n",
       "      <td>United States</td>\n",
       "      <td>Jacksonville</td>\n",
       "      <td>North Carolina</td>\n",
       "      <td>28540</td>\n",
       "      <td>South</td>\n",
       "      <td>OFF-BI-10000474</td>\n",
       "      <td>Office Supplies</td>\n",
       "      <td>Binders</td>\n",
       "      <td>Avery Recycled Flexi-View Covers for Binding S...</td>\n",
       "      <td>28.854</td>\n",
       "      <td>6</td>\n",
       "      <td>0.7</td>\n",
       "      <td>-21.1596</td>\n",
       "    </tr>\n",
       "    <tr>\n",
       "      <th>13</th>\n",
       "      <td>02-01-20</td>\n",
       "      <td>8361</td>\n",
       "      <td>CA-2017-147207</td>\n",
       "      <td>Second Class</td>\n",
       "      <td>TS-21655</td>\n",
       "      <td>Consumer</td>\n",
       "      <td>United States</td>\n",
       "      <td>El Paso</td>\n",
       "      <td>Texas</td>\n",
       "      <td>79907</td>\n",
       "      <td>Central</td>\n",
       "      <td>OFF-AR-10001955</td>\n",
       "      <td>Office Supplies</td>\n",
       "      <td>Art</td>\n",
       "      <td>Newell 319</td>\n",
       "      <td>31.744</td>\n",
       "      <td>2</td>\n",
       "      <td>0.2</td>\n",
       "      <td>3.9680</td>\n",
       "    </tr>\n",
       "    <tr>\n",
       "      <th>14</th>\n",
       "      <td>02-01-20</td>\n",
       "      <td>8362</td>\n",
       "      <td>CA-2017-147207</td>\n",
       "      <td>Second Class</td>\n",
       "      <td>TS-21655</td>\n",
       "      <td>Consumer</td>\n",
       "      <td>United States</td>\n",
       "      <td>El Paso</td>\n",
       "      <td>Texas</td>\n",
       "      <td>79907</td>\n",
       "      <td>Central</td>\n",
       "      <td>OFF-AP-10000027</td>\n",
       "      <td>Office Supplies</td>\n",
       "      <td>Appliances</td>\n",
       "      <td>Hoover Commercial SteamVac</td>\n",
       "      <td>5.432</td>\n",
       "      <td>2</td>\n",
       "      <td>0.8</td>\n",
       "      <td>-13.5800</td>\n",
       "    </tr>\n",
       "  </tbody>\n",
       "</table>\n",
       "</div>"
      ],
      "text/plain": [
       "   Order_date  Row_ID        Order_ID       Ship_mode Customer_ID  \\\n",
       "0    01-01-20     849  CA-2017-107503  Standard Class    GA-14725   \n",
       "1    01-01-20    4010  CA-2017-144463  Standard Class    SC-20725   \n",
       "2    01-01-20    6683  CA-2017-154466     First Class    DP-13390   \n",
       "3    01-01-20    8070  CA-2017-151750  Standard Class    JM-15250   \n",
       "4    01-01-20    8071  CA-2017-151750  Standard Class    JM-15250   \n",
       "5    01-01-20    8072  CA-2017-151750  Standard Class    JM-15250   \n",
       "6    01-01-20    8073  CA-2017-151750  Standard Class    JM-15250   \n",
       "7    01-01-20    8074  CA-2017-151750  Standard Class    JM-15250   \n",
       "8    01-01-20    8075  CA-2017-151750  Standard Class    JM-15250   \n",
       "9    01-01-20    8076  CA-2017-151750  Standard Class    JM-15250   \n",
       "10   02-01-20    1341  CA-2017-113481     First Class    AS-10045   \n",
       "11   02-01-20    1342  CA-2017-113481     First Class    AS-10045   \n",
       "12   02-01-20    1343  CA-2017-113481     First Class    AS-10045   \n",
       "13   02-01-20    8361  CA-2017-147207    Second Class    TS-21655   \n",
       "14   02-01-20    8362  CA-2017-147207    Second Class    TS-21655   \n",
       "\n",
       "        Segment        Country          City           State  Postal_code  \\\n",
       "0      Consumer  United States        Lorain            Ohio        44052   \n",
       "1      Consumer  United States   Los Angeles      California        90036   \n",
       "2   Home Office  United States      Franklin       Wisconsin        53132   \n",
       "3      Consumer  United States    Huntsville           Texas        77340   \n",
       "4      Consumer  United States    Huntsville           Texas        77340   \n",
       "5      Consumer  United States    Huntsville           Texas        77340   \n",
       "6      Consumer  United States    Huntsville           Texas        77340   \n",
       "7      Consumer  United States    Huntsville           Texas        77340   \n",
       "8      Consumer  United States    Huntsville           Texas        77340   \n",
       "9      Consumer  United States    Huntsville           Texas        77340   \n",
       "10    Corporate  United States  Jacksonville  North Carolina        28540   \n",
       "11    Corporate  United States  Jacksonville  North Carolina        28540   \n",
       "12    Corporate  United States  Jacksonville  North Carolina        28540   \n",
       "13     Consumer  United States       El Paso           Texas        79907   \n",
       "14     Consumer  United States       El Paso           Texas        79907   \n",
       "\n",
       "     Region       Product_ID         Category Sub-Category  \\\n",
       "0      East  FUR-FU-10003878        Furniture  Furnishings   \n",
       "1      West  FUR-FU-10001215        Furniture  Furnishings   \n",
       "2   Central  OFF-BI-10002012  Office Supplies      Binders   \n",
       "3   Central  OFF-ST-10002743  Office Supplies      Storage   \n",
       "4   Central  FUR-FU-10002116        Furniture  Furnishings   \n",
       "5   Central  FUR-CH-10003199        Furniture       Chairs   \n",
       "6   Central  OFF-AR-10003158  Office Supplies          Art   \n",
       "7   Central  OFF-BI-10000301  Office Supplies      Binders   \n",
       "8   Central  OFF-BI-10000343  Office Supplies      Binders   \n",
       "9   Central  OFF-AP-10004708  Office Supplies   Appliances   \n",
       "10    South  TEC-MA-10002178       Technology     Machines   \n",
       "11    South  OFF-BI-10003694  Office Supplies      Binders   \n",
       "12    South  OFF-BI-10000474  Office Supplies      Binders   \n",
       "13  Central  OFF-AR-10001955  Office Supplies          Art   \n",
       "14  Central  OFF-AP-10000027  Office Supplies   Appliances   \n",
       "\n",
       "                                         Product_name    Sales  Quantity  \\\n",
       "0                  Linden 10\" Round Wall Clock, Black   48.896         4   \n",
       "1   Howard Miller 11-1/2\" Diameter Brentwood Wall ...  474.430        11   \n",
       "2             Wilson Jones Easy Flow II Sheet Lifters    3.600         2   \n",
       "3                       SAFCO Boltless Steel Shelving  454.560         5   \n",
       "4   Tenex Carpeted, Granite-Look or Clear Contempo...  141.420         5   \n",
       "5        Office Star - Contemporary Task Swivel Chair  310.744         4   \n",
       "6                   Fluorescent Highlighters by Dixon   12.736         4   \n",
       "7                              GBC Instant Report Kit    6.470         5   \n",
       "8   Pressboard Covers with Storage Hooks, 9 1/2\" x...   13.748        14   \n",
       "9   Fellowes Superior 10 Outlet Split Surge Protector   15.224         2   \n",
       "10  Cisco CP-7937G Unified IP Conference Station P...  695.700         2   \n",
       "11       Avery 3 1/2\" Diskette Storage Pages, 10/Pack   15.660         5   \n",
       "12  Avery Recycled Flexi-View Covers for Binding S...   28.854         6   \n",
       "13                                         Newell 319   31.744         2   \n",
       "14                         Hoover Commercial SteamVac    5.432         2   \n",
       "\n",
       "    Discount    Profit  \n",
       "0        0.2    8.5568  \n",
       "1        0.0  199.2606  \n",
       "2        0.0    1.7280  \n",
       "3        0.2 -107.9580  \n",
       "4        0.6 -187.3815  \n",
       "5        0.3  -26.6352  \n",
       "6        0.2    2.2288  \n",
       "7        0.8   -9.7050  \n",
       "8        0.8  -22.6842  \n",
       "9        0.8  -38.8212  \n",
       "10       0.5  -27.8280  \n",
       "11       0.7  -12.5280  \n",
       "12       0.7  -21.1596  \n",
       "13       0.2    3.9680  \n",
       "14       0.8  -13.5800  "
      ]
     },
     "execution_count": 13,
     "metadata": {},
     "output_type": "execute_result"
    }
   ],
   "source": [
    "# renaming columns\n",
    "df.rename(columns={\"Order Date\": \"Order_date\", \"Row ID\": \"Row_ID\", \"Order ID\": \"Order_ID\", \"Ship Mode\": \"Ship_mode\", \"Customer ID\": \"Customer_ID\",\n",
    "\"Postal Code\": \"Postal_code\", \"Product ID\": \"Product_ID\", \"Product Name\": \"Product_name\"}, inplace=True)\n",
    "df.head(15)"
   ]
  },
  {
   "cell_type": "code",
   "execution_count": 4,
   "metadata": {},
   "outputs": [
    {
     "data": {
      "text/plain": [
       "(3312, 19)"
      ]
     },
     "execution_count": 4,
     "metadata": {},
     "output_type": "execute_result"
    }
   ],
   "source": [
    "# shape of the dataset\n",
    "df.shape"
   ]
  },
  {
   "cell_type": "markdown",
   "metadata": {},
   "source": [
    "This dataset has 3312 rows and 10 columns."
   ]
  },
  {
   "cell_type": "markdown",
   "metadata": {},
   "source": [
    "                        Removing Duplicates"
   ]
  },
  {
   "cell_type": "markdown",
   "metadata": {},
   "source": [
    "This dataset my contain duplicated values that may skew our data making the resultant analysis inaccurate.We will remove them by removing any repeated identity number(ID) of a customer."
   ]
  },
  {
   "cell_type": "code",
   "execution_count": 123,
   "metadata": {},
   "outputs": [],
   "source": [
    "# checking and removing duplicate customers\n",
    "df = df.loc[~df['Customer_ID'].index.duplicated()]"
   ]
  },
  {
   "cell_type": "code",
   "execution_count": 124,
   "metadata": {},
   "outputs": [
    {
     "data": {
      "text/plain": [
       "(3312, 19)"
      ]
     },
     "execution_count": 124,
     "metadata": {},
     "output_type": "execute_result"
    }
   ],
   "source": [
    "# checking the shape of the dataset after removing duplicates\n",
    "df.shape"
   ]
  },
  {
   "cell_type": "markdown",
   "metadata": {},
   "source": [
    "The shape of the dataset has remained the same meaning there wasn't any duplicated customers in our data"
   ]
  },
  {
   "cell_type": "code",
   "execution_count": 125,
   "metadata": {},
   "outputs": [
    {
     "data": {
      "text/plain": [
       "Order_date      0\n",
       "Row_ID          0\n",
       "Order_ID        0\n",
       "Ship_mode       0\n",
       "Customer_ID     0\n",
       "Segment         0\n",
       "Country         0\n",
       "City            0\n",
       "State           0\n",
       "Postal_code     0\n",
       "Region          0\n",
       "Product_ID      0\n",
       "Category        0\n",
       "Sub-Category    0\n",
       "Product_name    0\n",
       "Sales           0\n",
       "Quantity        0\n",
       "Discount        0\n",
       "Profit          0\n",
       "dtype: int64"
      ]
     },
     "execution_count": 125,
     "metadata": {},
     "output_type": "execute_result"
    }
   ],
   "source": [
    "# checking null values\n",
    "df.isnull().sum()"
   ]
  },
  {
   "cell_type": "markdown",
   "metadata": {},
   "source": [
    "Our data does have any null values"
   ]
  },
  {
   "cell_type": "markdown",
   "metadata": {},
   "source": [
    "                  Descriptive Statistics"
   ]
  },
  {
   "cell_type": "markdown",
   "metadata": {},
   "source": [
    "This will involve estimating various statistical  measures to our variables like mean, count, standard deviation, maximum value and minimum value and quantiles. The variables are the index while the column is made up of the statistical parameters."
   ]
  },
  {
   "cell_type": "code",
   "execution_count": 126,
   "metadata": {},
   "outputs": [
    {
     "data": {
      "text/html": [
       "<style type=\"text/css\">\n",
       "#T_ab600_row0_col0, #T_ab600_row1_col0, #T_ab600_row1_col2, #T_ab600_row1_col7, #T_ab600_row2_col0, #T_ab600_row2_col1, #T_ab600_row2_col2, #T_ab600_row2_col4, #T_ab600_row2_col5, #T_ab600_row2_col6, #T_ab600_row2_col7, #T_ab600_row3_col0, #T_ab600_row3_col3 {\n",
       "  background-color: #440154;\n",
       "  color: #f1f1f1;\n",
       "}\n",
       "#T_ab600_row0_col1, #T_ab600_row0_col2, #T_ab600_row0_col3, #T_ab600_row0_col4, #T_ab600_row0_col5, #T_ab600_row0_col6, #T_ab600_row0_col7, #T_ab600_row1_col3, #T_ab600_row2_col3 {\n",
       "  background-color: #fde725;\n",
       "  color: #000000;\n",
       "}\n",
       "#T_ab600_row1_col1 {\n",
       "  background-color: #46075a;\n",
       "  color: #f1f1f1;\n",
       "}\n",
       "#T_ab600_row1_col4 {\n",
       "  background-color: #472a7a;\n",
       "  color: #f1f1f1;\n",
       "}\n",
       "#T_ab600_row1_col5 {\n",
       "  background-color: #481467;\n",
       "  color: #f1f1f1;\n",
       "}\n",
       "#T_ab600_row1_col6 {\n",
       "  background-color: #46085c;\n",
       "  color: #f1f1f1;\n",
       "}\n",
       "#T_ab600_row3_col1 {\n",
       "  background-color: #472d7b;\n",
       "  color: #f1f1f1;\n",
       "}\n",
       "#T_ab600_row3_col2 {\n",
       "  background-color: #297b8e;\n",
       "  color: #f1f1f1;\n",
       "}\n",
       "#T_ab600_row3_col4 {\n",
       "  background-color: #482576;\n",
       "  color: #f1f1f1;\n",
       "}\n",
       "#T_ab600_row3_col5 {\n",
       "  background-color: #463480;\n",
       "  color: #f1f1f1;\n",
       "}\n",
       "#T_ab600_row3_col6 {\n",
       "  background-color: #46307e;\n",
       "  color: #f1f1f1;\n",
       "}\n",
       "#T_ab600_row3_col7 {\n",
       "  background-color: #228b8d;\n",
       "  color: #f1f1f1;\n",
       "}\n",
       "</style>\n",
       "<table id=\"T_ab600\">\n",
       "  <thead>\n",
       "    <tr>\n",
       "      <th class=\"blank level0\" >&nbsp;</th>\n",
       "      <th id=\"T_ab600_level0_col0\" class=\"col_heading level0 col0\" >count</th>\n",
       "      <th id=\"T_ab600_level0_col1\" class=\"col_heading level0 col1\" >mean</th>\n",
       "      <th id=\"T_ab600_level0_col2\" class=\"col_heading level0 col2\" >std</th>\n",
       "      <th id=\"T_ab600_level0_col3\" class=\"col_heading level0 col3\" >min</th>\n",
       "      <th id=\"T_ab600_level0_col4\" class=\"col_heading level0 col4\" >25%</th>\n",
       "      <th id=\"T_ab600_level0_col5\" class=\"col_heading level0 col5\" >50%</th>\n",
       "      <th id=\"T_ab600_level0_col6\" class=\"col_heading level0 col6\" >75%</th>\n",
       "      <th id=\"T_ab600_level0_col7\" class=\"col_heading level0 col7\" >max</th>\n",
       "    </tr>\n",
       "  </thead>\n",
       "  <tbody>\n",
       "    <tr>\n",
       "      <th id=\"T_ab600_level0_row0\" class=\"row_heading level0 row0\" >Sales</th>\n",
       "      <td id=\"T_ab600_row0_col0\" class=\"data row0 col0\" >3312.000000</td>\n",
       "      <td id=\"T_ab600_row0_col1\" class=\"data row0 col1\" >221.381418</td>\n",
       "      <td id=\"T_ab600_row0_col2\" class=\"data row0 col2\" >585.257531</td>\n",
       "      <td id=\"T_ab600_row0_col3\" class=\"data row0 col3\" >0.444000</td>\n",
       "      <td id=\"T_ab600_row0_col4\" class=\"data row0 col4\" >17.018000</td>\n",
       "      <td id=\"T_ab600_row0_col5\" class=\"data row0 col5\" >53.810000</td>\n",
       "      <td id=\"T_ab600_row0_col6\" class=\"data row0 col6\" >205.105700</td>\n",
       "      <td id=\"T_ab600_row0_col7\" class=\"data row0 col7\" >13999.960000</td>\n",
       "    </tr>\n",
       "    <tr>\n",
       "      <th id=\"T_ab600_level0_row1\" class=\"row_heading level0 row1\" >Quantity</th>\n",
       "      <td id=\"T_ab600_row1_col0\" class=\"data row1 col0\" >3312.000000</td>\n",
       "      <td id=\"T_ab600_row1_col1\" class=\"data row1 col1\" >3.766908</td>\n",
       "      <td id=\"T_ab600_row1_col2\" class=\"data row1 col2\" >2.221776</td>\n",
       "      <td id=\"T_ab600_row1_col3\" class=\"data row1 col3\" >1.000000</td>\n",
       "      <td id=\"T_ab600_row1_col4\" class=\"data row1 col4\" >2.000000</td>\n",
       "      <td id=\"T_ab600_row1_col5\" class=\"data row1 col5\" >3.000000</td>\n",
       "      <td id=\"T_ab600_row1_col6\" class=\"data row1 col6\" >5.000000</td>\n",
       "      <td id=\"T_ab600_row1_col7\" class=\"data row1 col7\" >14.000000</td>\n",
       "    </tr>\n",
       "    <tr>\n",
       "      <th id=\"T_ab600_level0_row2\" class=\"row_heading level0 row2\" >Discount</th>\n",
       "      <td id=\"T_ab600_row2_col0\" class=\"data row2 col0\" >3312.000000</td>\n",
       "      <td id=\"T_ab600_row2_col1\" class=\"data row2 col1\" >0.156467</td>\n",
       "      <td id=\"T_ab600_row2_col2\" class=\"data row2 col2\" >0.207429</td>\n",
       "      <td id=\"T_ab600_row2_col3\" class=\"data row2 col3\" >0.000000</td>\n",
       "      <td id=\"T_ab600_row2_col4\" class=\"data row2 col4\" >0.000000</td>\n",
       "      <td id=\"T_ab600_row2_col5\" class=\"data row2 col5\" >0.200000</td>\n",
       "      <td id=\"T_ab600_row2_col6\" class=\"data row2 col6\" >0.200000</td>\n",
       "      <td id=\"T_ab600_row2_col7\" class=\"data row2 col7\" >0.800000</td>\n",
       "    </tr>\n",
       "    <tr>\n",
       "      <th id=\"T_ab600_level0_row3\" class=\"row_heading level0 row3\" >Profit</th>\n",
       "      <td id=\"T_ab600_row3_col0\" class=\"data row3 col0\" >3312.000000</td>\n",
       "      <td id=\"T_ab600_row3_col1\" class=\"data row3 col1\" >28.212340</td>\n",
       "      <td id=\"T_ab600_row3_col2\" class=\"data row3 col2\" >241.864342</td>\n",
       "      <td id=\"T_ab600_row3_col3\" class=\"data row3 col3\" >-3839.990400</td>\n",
       "      <td id=\"T_ab600_row3_col4\" class=\"data row3 col4\" >1.763200</td>\n",
       "      <td id=\"T_ab600_row3_col5\" class=\"data row3 col5\" >8.296800</td>\n",
       "      <td id=\"T_ab600_row3_col6\" class=\"data row3 col6\" >28.315125</td>\n",
       "      <td id=\"T_ab600_row3_col7\" class=\"data row3 col7\" >6719.980800</td>\n",
       "    </tr>\n",
       "  </tbody>\n",
       "</table>\n"
      ],
      "text/plain": [
       "<pandas.io.formats.style.Styler at 0x1cf502e3700>"
      ]
     },
     "execution_count": 126,
     "metadata": {},
     "output_type": "execute_result"
    }
   ],
   "source": [
    "# filtering important columns to derive statistical analysis\n",
    "df[['Sales', 'Quantity', 'Discount', 'Profit']].describe().T.style.background_gradient(cmap='viridis')"
   ]
  },
  {
   "cell_type": "code",
   "execution_count": 127,
   "metadata": {},
   "outputs": [
    {
     "data": {
      "text/plain": [
       "Order_date       object\n",
       "Row_ID            int64\n",
       "Order_ID         object\n",
       "Ship_mode        object\n",
       "Customer_ID      object\n",
       "Segment          object\n",
       "Country          object\n",
       "City             object\n",
       "State            object\n",
       "Postal_code       int64\n",
       "Region           object\n",
       "Product_ID       object\n",
       "Category         object\n",
       "Sub-Category     object\n",
       "Product_name     object\n",
       "Sales           float64\n",
       "Quantity          int64\n",
       "Discount        float64\n",
       "Profit          float64\n",
       "dtype: object"
      ]
     },
     "execution_count": 127,
     "metadata": {},
     "output_type": "execute_result"
    }
   ],
   "source": [
    "# data types\n",
    "df.dtypes"
   ]
  },
  {
   "cell_type": "code",
   "execution_count": 128,
   "metadata": {},
   "outputs": [],
   "source": [
    "#df['Order_ID'] = df['Order_ID'].astype(str)"
   ]
  },
  {
   "cell_type": "markdown",
   "metadata": {},
   "source": [
    "There are some cities which may have similar names yet they are from different states thus we will modify them to show both city's name and its respective state. We will remove country column because it involves one country i.e USA"
   ]
  },
  {
   "cell_type": "code",
   "execution_count": 129,
   "metadata": {},
   "outputs": [
    {
     "data": {
      "text/html": [
       "<div>\n",
       "<style scoped>\n",
       "    .dataframe tbody tr th:only-of-type {\n",
       "        vertical-align: middle;\n",
       "    }\n",
       "\n",
       "    .dataframe tbody tr th {\n",
       "        vertical-align: top;\n",
       "    }\n",
       "\n",
       "    .dataframe thead th {\n",
       "        text-align: right;\n",
       "    }\n",
       "</style>\n",
       "<table border=\"1\" class=\"dataframe\">\n",
       "  <thead>\n",
       "    <tr style=\"text-align: right;\">\n",
       "      <th></th>\n",
       "      <th>Order_date</th>\n",
       "      <th>Row_ID</th>\n",
       "      <th>Order_ID</th>\n",
       "      <th>Ship_mode</th>\n",
       "      <th>Customer_ID</th>\n",
       "      <th>Segment</th>\n",
       "      <th>Postal_code</th>\n",
       "      <th>Region</th>\n",
       "      <th>Product_ID</th>\n",
       "      <th>Category</th>\n",
       "      <th>Sub-Category</th>\n",
       "      <th>Product_name</th>\n",
       "      <th>Sales</th>\n",
       "      <th>Quantity</th>\n",
       "      <th>Discount</th>\n",
       "      <th>Profit</th>\n",
       "      <th>State_</th>\n",
       "    </tr>\n",
       "  </thead>\n",
       "  <tbody>\n",
       "    <tr>\n",
       "      <th>0</th>\n",
       "      <td>01-01-20</td>\n",
       "      <td>849</td>\n",
       "      <td>CA-2017-107503</td>\n",
       "      <td>Standard Class</td>\n",
       "      <td>GA-14725</td>\n",
       "      <td>Consumer</td>\n",
       "      <td>44052</td>\n",
       "      <td>East</td>\n",
       "      <td>FUR-FU-10003878</td>\n",
       "      <td>Furniture</td>\n",
       "      <td>Furnishings</td>\n",
       "      <td>Linden 10\" Round Wall Clock, Black</td>\n",
       "      <td>48.896</td>\n",
       "      <td>4</td>\n",
       "      <td>0.2</td>\n",
       "      <td>8.5568</td>\n",
       "      <td>Lorain,Ohio</td>\n",
       "    </tr>\n",
       "    <tr>\n",
       "      <th>1</th>\n",
       "      <td>01-01-20</td>\n",
       "      <td>4010</td>\n",
       "      <td>CA-2017-144463</td>\n",
       "      <td>Standard Class</td>\n",
       "      <td>SC-20725</td>\n",
       "      <td>Consumer</td>\n",
       "      <td>90036</td>\n",
       "      <td>West</td>\n",
       "      <td>FUR-FU-10001215</td>\n",
       "      <td>Furniture</td>\n",
       "      <td>Furnishings</td>\n",
       "      <td>Howard Miller 11-1/2\" Diameter Brentwood Wall ...</td>\n",
       "      <td>474.430</td>\n",
       "      <td>11</td>\n",
       "      <td>0.0</td>\n",
       "      <td>199.2606</td>\n",
       "      <td>Los Angeles,California</td>\n",
       "    </tr>\n",
       "    <tr>\n",
       "      <th>2</th>\n",
       "      <td>01-01-20</td>\n",
       "      <td>6683</td>\n",
       "      <td>CA-2017-154466</td>\n",
       "      <td>First Class</td>\n",
       "      <td>DP-13390</td>\n",
       "      <td>Home Office</td>\n",
       "      <td>53132</td>\n",
       "      <td>Central</td>\n",
       "      <td>OFF-BI-10002012</td>\n",
       "      <td>Office Supplies</td>\n",
       "      <td>Binders</td>\n",
       "      <td>Wilson Jones Easy Flow II Sheet Lifters</td>\n",
       "      <td>3.600</td>\n",
       "      <td>2</td>\n",
       "      <td>0.0</td>\n",
       "      <td>1.7280</td>\n",
       "      <td>Franklin,Wisconsin</td>\n",
       "    </tr>\n",
       "    <tr>\n",
       "      <th>3</th>\n",
       "      <td>01-01-20</td>\n",
       "      <td>8070</td>\n",
       "      <td>CA-2017-151750</td>\n",
       "      <td>Standard Class</td>\n",
       "      <td>JM-15250</td>\n",
       "      <td>Consumer</td>\n",
       "      <td>77340</td>\n",
       "      <td>Central</td>\n",
       "      <td>OFF-ST-10002743</td>\n",
       "      <td>Office Supplies</td>\n",
       "      <td>Storage</td>\n",
       "      <td>SAFCO Boltless Steel Shelving</td>\n",
       "      <td>454.560</td>\n",
       "      <td>5</td>\n",
       "      <td>0.2</td>\n",
       "      <td>-107.9580</td>\n",
       "      <td>Huntsville,Texas</td>\n",
       "    </tr>\n",
       "    <tr>\n",
       "      <th>4</th>\n",
       "      <td>01-01-20</td>\n",
       "      <td>8071</td>\n",
       "      <td>CA-2017-151750</td>\n",
       "      <td>Standard Class</td>\n",
       "      <td>JM-15250</td>\n",
       "      <td>Consumer</td>\n",
       "      <td>77340</td>\n",
       "      <td>Central</td>\n",
       "      <td>FUR-FU-10002116</td>\n",
       "      <td>Furniture</td>\n",
       "      <td>Furnishings</td>\n",
       "      <td>Tenex Carpeted, Granite-Look or Clear Contempo...</td>\n",
       "      <td>141.420</td>\n",
       "      <td>5</td>\n",
       "      <td>0.6</td>\n",
       "      <td>-187.3815</td>\n",
       "      <td>Huntsville,Texas</td>\n",
       "    </tr>\n",
       "  </tbody>\n",
       "</table>\n",
       "</div>"
      ],
      "text/plain": [
       "  Order_date  Row_ID        Order_ID       Ship_mode Customer_ID      Segment  \\\n",
       "0   01-01-20     849  CA-2017-107503  Standard Class    GA-14725     Consumer   \n",
       "1   01-01-20    4010  CA-2017-144463  Standard Class    SC-20725     Consumer   \n",
       "2   01-01-20    6683  CA-2017-154466     First Class    DP-13390  Home Office   \n",
       "3   01-01-20    8070  CA-2017-151750  Standard Class    JM-15250     Consumer   \n",
       "4   01-01-20    8071  CA-2017-151750  Standard Class    JM-15250     Consumer   \n",
       "\n",
       "   Postal_code   Region       Product_ID         Category Sub-Category  \\\n",
       "0        44052     East  FUR-FU-10003878        Furniture  Furnishings   \n",
       "1        90036     West  FUR-FU-10001215        Furniture  Furnishings   \n",
       "2        53132  Central  OFF-BI-10002012  Office Supplies      Binders   \n",
       "3        77340  Central  OFF-ST-10002743  Office Supplies      Storage   \n",
       "4        77340  Central  FUR-FU-10002116        Furniture  Furnishings   \n",
       "\n",
       "                                        Product_name    Sales  Quantity  \\\n",
       "0                 Linden 10\" Round Wall Clock, Black   48.896         4   \n",
       "1  Howard Miller 11-1/2\" Diameter Brentwood Wall ...  474.430        11   \n",
       "2            Wilson Jones Easy Flow II Sheet Lifters    3.600         2   \n",
       "3                      SAFCO Boltless Steel Shelving  454.560         5   \n",
       "4  Tenex Carpeted, Granite-Look or Clear Contempo...  141.420         5   \n",
       "\n",
       "   Discount    Profit                  State_  \n",
       "0       0.2    8.5568             Lorain,Ohio  \n",
       "1       0.0  199.2606  Los Angeles,California  \n",
       "2       0.0    1.7280      Franklin,Wisconsin  \n",
       "3       0.2 -107.9580        Huntsville,Texas  \n",
       "4       0.6 -187.3815        Huntsville,Texas  "
      ]
     },
     "execution_count": 129,
     "metadata": {},
     "output_type": "execute_result"
    }
   ],
   "source": [
    "# combining a city with its approppriate state\n",
    "df['State_'] = df['City'] + \",\" + df['State']\n",
    "# dropping state, city, and country since they are unimportant to our analysis\n",
    "df.drop(columns=['State', 'City', 'Country'], inplace=True, axis=1)\n",
    "df.head()"
   ]
  },
  {
   "cell_type": "markdown",
   "metadata": {},
   "source": [
    "                        Data Visualisation"
   ]
  },
  {
   "cell_type": "markdown",
   "metadata": {},
   "source": [
    "Bivariate Analysis"
   ]
  },
  {
   "cell_type": "markdown",
   "metadata": {},
   "source": [
    "This is analysis that is used to depict relationship between two variables that is to check any correlation among those variables.It helps to see how they are connected and find trends and patterns in the data."
   ]
  },
  {
   "cell_type": "markdown",
   "metadata": {},
   "source": [
    "1. Cities with highest number of orders"
   ]
  },
  {
   "cell_type": "code",
   "execution_count": 130,
   "metadata": {},
   "outputs": [
    {
     "data": {
      "image/png": "[encoded data removed]",
      "text/plain": [
       "<Figure size 432x288 with 1 Axes>"
      ]
     },
     "metadata": {
      "needs_background": "light"
     },
     "output_type": "display_data"
    }
   ],
   "source": [
    "total_orders = df.groupby('State_')['Customer_ID'].count().reset_index().sort_values(by = \"Customer_ID\", ascending = False)\n",
    "#total_orders = pd.DataFrame(total_orders.rename(columns= {\"Customer_ID\": \"counts\"}, inplace=True))\n",
    "ax = sns.barplot(x='Customer_ID', y= 'State_', data=total_orders[:10])\n",
    "ax.set_title(\"Top 10 Cities with highest orders\")\n",
    "plt.xlabel(\"states\")\n",
    "plt.xlabel(\"Number of customers\")\n",
    "plt.show()"
   ]
  },
  {
   "cell_type": "markdown",
   "metadata": {},
   "source": [
    "New York City is the highest with more than 300 orders, seconded by Los Angelels with approximately 220 orders while Jackssonville and San Diego both from California have the smallest bars with less than 50 orders among the top 10 cities with the highest number of orders."
   ]
  },
  {
   "cell_type": "markdown",
   "metadata": {},
   "source": [
    "Conclusion: A simple google search shows;"
   ]
  },
  {
   "cell_type": "markdown",
   "metadata": {},
   "source": [
    "New York and Los Angeles have the highest customer orders, my hypothesis being is because of their huge population than the rest of the cities. There are other factors  that explains why San Fransisco has huge customer orders compared to Seattle which has a larger population than it. "
   ]
  },
  {
   "cell_type": "markdown",
   "metadata": {},
   "source": [
    "On lower side Houston has a huge population than Dallas, while San Diego has a slightly larger population than JacksonVille. This roughly supports my hypothesis that huge population matters on number of orders."
   ]
  },
  {
   "cell_type": "markdown",
   "metadata": {},
   "source": [
    "2. Top 10 customers with the highest number of purchases"
   ]
  },
  {
   "cell_type": "code",
   "execution_count": 132,
   "metadata": {},
   "outputs": [
    {
     "data": {
      "text/plain": [
       "Text(0.5, 1.0, 'Top 10 customers with highest sales')"
      ]
     },
     "execution_count": 132,
     "metadata": {},
     "output_type": "execute_result"
    },
    {
     "data": {
      "image/png": "[encoded data removed]",
      "text/plain": [
       "<Figure size 720x432 with 1 Axes>"
      ]
     },
     "metadata": {
      "needs_background": "light"
     },
     "output_type": "display_data"
    }
   ],
   "source": [
    "# grouping Sales in relation to how much a consumer buys from our organization\n",
    "total_value = df.groupby('Customer_ID')['Sales'].sum().reset_index().sort_values(by='Sales', ascending=False)\n",
    "plt.figure(figsize=(10, 6))\n",
    "ax = sns.barplot(x='Sales', y='Customer_ID', data=total_value[:10])\n",
    "ax.set_title(\"Top 10 customers with highest sales\")"
   ]
  },
  {
   "cell_type": "markdown",
   "metadata": {},
   "source": [
    "from the figure above, Consumer RB-19360 had the highest purchases of more than 14000 value of goods/services from our organization, followed by consumer with ID TA-21325 with purchases amounting to almost 14000 while the one with ID KF-16285 had the lowest purchases of less than 6000 among our top 10 consumers."
   ]
  },
  {
   "cell_type": "markdown",
   "metadata": {},
   "source": [
    "Conclusion: The organization should offer various incentives such as discounts, after sales services etc for these customers to maintain their loyalty and encourange new ones since they represent those customers that buy the bulky amounts of goods from us."
   ]
  },
  {
   "cell_type": "markdown",
   "metadata": {},
   "source": [
    "3. Market Segments with Highest Sales"
   ]
  },
  {
   "cell_type": "code",
   "execution_count": 133,
   "metadata": {},
   "outputs": [
    {
     "data": {
      "text/plain": [
       "Text(0.5, 1.0, 'Market segments making highest Sales')"
      ]
     },
     "execution_count": 133,
     "metadata": {},
     "output_type": "execute_result"
    },
    {
     "data": {
      "image/png": "[encoded data removed]",
      "text/plain": [
       "<Figure size 864x432 with 1 Axes>"
      ]
     },
     "metadata": {
      "needs_background": "light"
     },
     "output_type": "display_data"
    }
   ],
   "source": [
    "# grouping Sales according to consumer segments\n",
    "segment_sales = df.groupby('Segment')['Sales'].sum().reset_index().sort_values(by='Sales', ascending=False)\n",
    "#segment_sales['% total sales'] = (segment_sales['Sales']/segment_sales['Sales'].sum()) ** 100\n",
    "plt.figure(figsize=(12, 6))\n",
    "ax = sns.barplot(x= 'Sales', y='Segment', data=segment_sales[:10])\n",
    "ax.set_title(\"Market segments making highest Sales\")"
   ]
  },
  {
   "cell_type": "markdown",
   "metadata": {},
   "source": [
    "Consumer markets are the largest making more than 300000 sales, followed by Corporate segment with close to 250000 sales while Home Office market has the smallest bar with slightly more than 150 000 sales."
   ]
  },
  {
   "cell_type": "markdown",
   "metadata": {},
   "source": [
    "Conclusion: There is high stock turn-over in consumer market because it involves a variety of products thus a larger market translating to higher sales while Home Office has less stock turnover since it has a smaller market thus less sales"
   ]
  },
  {
   "cell_type": "markdown",
   "metadata": {},
   "source": [
    "4. Mode of shipment preferred by consumers"
   ]
  },
  {
   "cell_type": "code",
   "execution_count": 134,
   "metadata": {},
   "outputs": [
    {
     "data": {
      "image/png": "[encoded data removed]",
      "text/plain": [
       "<Figure size 864x432 with 1 Axes>"
      ]
     },
     "metadata": {
      "needs_background": "light"
     },
     "output_type": "display_data"
    }
   ],
   "source": [
    "# grouping Orders based on preferred mode of shipment\n",
    "ship_values = df.groupby(\"Ship_mode\")['Order_ID'].count().reset_index().sort_values(by='Order_ID', ascending=False)\n",
    "plt.figure(figsize=(12, 6))\n",
    "# plotting the realtionship betweeen ship mode and consumer orders\n",
    "ax = sns.barplot(x='Ship_mode', y='Order_ID', data=ship_values)\n",
    "ax.set_title(\"Preferred mode of shipment by Customers\")\n",
    "plt.xlabel(\"Preferred mode of shipment\")\n",
    "plt.ylabel(\"Number of Orders\")\n",
    "plt.show()"
   ]
  },
  {
   "cell_type": "markdown",
   "metadata": {},
   "source": [
    "Standard Class was the most preferred mode of shipment with  1750 entries, followed by second class with slightly more than 500 entries while Same Day was the least one with less than 250 entries"
   ]
  },
  {
   "cell_type": "markdown",
   "metadata": {},
   "source": [
    "conclusion:"
   ]
  },
  {
   "cell_type": "markdown",
   "metadata": {},
   "source": [
    "Consumers prefer Standard class because it it cheap, can take goods that weighs more than the 227 grams. The organizations should stock more goods that are preferred for standard class while using various marketing strategies to target consumers that use this mode of shipment to attract more sales. second class attracts some discounts thus it explains it being second of the most preferred mode of shipment."
   ]
  },
  {
   "cell_type": "markdown",
   "metadata": {},
   "source": [
    "First class comes third because it is limited to items less than 13 ounces and is expensive compared to Standard class and Second Class while Same Day comes last because it is the most expensive although there is guarantee of delivery or refund if not delivered."
   ]
  },
  {
   "cell_type": "markdown",
   "metadata": {},
   "source": [
    "5. Distribution of Sales according to region"
   ]
  },
  {
   "cell_type": "code",
   "execution_count": 15,
   "metadata": {},
   "outputs": [
    {
     "data": {
      "text/plain": [
       "Text(0.5, 1.0, 'Distribution of Sales sccording to region')"
      ]
     },
     "execution_count": 15,
     "metadata": {},
     "output_type": "execute_result"
    },
    {
     "data": {
      "image/png": "[encoded data removed]",
      "text/plain": [
       "<Figure size 576x432 with 1 Axes>"
      ]
     },
     "metadata": {
      "needs_background": "light"
     },
     "output_type": "display_data"
    }
   ],
   "source": [
    "# grouping the amount of sales depending on a region\n",
    "Sales_by_region = df.groupby(\"Region\")['Sales'].sum().reset_index().sort_values(by='Sales', ascending=False)\n",
    "plt.figure(figsize=(8, 6))\n",
    "# plotting relationship between Sales and  region\n",
    "ax = sns.barplot(x='Region', y='Sales', data=Sales_by_region)\n",
    "ax.set_title(\"Distribution of Sales sccording to region\")"
   ]
  },
  {
   "cell_type": "markdown",
   "metadata": {},
   "source": [
    "The western Region has the highest amount of sales of more than 250000 units, follwed by East with slightly more than 200000 units while The southern region has the smallest bar with slightly more than 100000 units."
   ]
  },
  {
   "cell_type": "markdown",
   "metadata": {},
   "source": [
    "6. Number of Orders made depending on a month"
   ]
  },
  {
   "cell_type": "code",
   "execution_count": 53,
   "metadata": {},
   "outputs": [
    {
     "data": {
      "text/plain": [
       "Text(0.5, 1.0, 'Number of orders by months')"
      ]
     },
     "execution_count": 53,
     "metadata": {},
     "output_type": "execute_result"
    },
    {
     "data": {
      "image/png": "[encoded data removed]",
      "text/plain": [
       "<Figure size 864x432 with 1 Axes>"
      ]
     },
     "metadata": {
      "needs_background": "light"
     },
     "output_type": "display_data"
    }
   ],
   "source": [
    "# converting order_datefrom an object into datetime object\n",
    "df['Order_date'] = pd.to_datetime(df[\"Order_date\"])\n",
    "# grouping orders in relation to month\n",
    "orderbymonth = df.groupby(df[\"Order_date\"].dt.month_name())[\"Order_ID\"].count().reset_index().sort_values(by=\"Order_ID\", ascending=False)\n",
    "plt.figure(figsize=(12, 6))\n",
    "ax = sns.barplot(x=\"Order_date\", y=\"Order_ID\", data=orderbymonth)\n",
    "ax.set_xlabel('Months')\n",
    "ax.set_ylabel(\"number of Orders\")\n",
    "ax.set_title(\"Number of orders by months\")"
   ]
  },
  {
   "cell_type": "markdown",
   "metadata": {},
   "source": [
    "from the figure:"
   ]
  },
  {
   "cell_type": "markdown",
   "metadata": {},
   "source": [
    "September and November have the largest bars  with more than 350 orders, December come second with slightly more than 300 orders while April, June and January have the lowest number of orders in a year with less than 250 each."
   ]
  },
  {
   "cell_type": "markdown",
   "metadata": {},
   "source": [
    "Conclusion: Consumers placed orders mostly on September and November, followed by December while January, April and June forms months where the number of orders were few."
   ]
  },
  {
   "cell_type": "markdown",
   "metadata": {},
   "source": [
    "7. Number of Orders made depending on the day of the week"
   ]
  },
  {
   "cell_type": "code",
   "execution_count": 54,
   "metadata": {},
   "outputs": [
    {
     "data": {
      "image/png": "[encoded data removed]",
      "text/plain": [
       "<Figure size 864x432 with 1 Axes>"
      ]
     },
     "metadata": {
      "needs_background": "light"
     },
     "output_type": "display_data"
    }
   ],
   "source": [
    "# grouping orders depending on the day of the week\n",
    "Orders_by_day = df.groupby(df['Order_date'].dt.day_name())['Order_ID'].count().reset_index().sort_values(by='Order_ID', ascending=False)\n",
    "plt.figure(figsize=(12, 6))\n",
    "ax = sns.barplot(x='Order_date', y='Order_ID', data=Orders_by_day)\n",
    "ax.set_title(\"Distribution of Orders made depending on day\")\n",
    "plt.xlabel(\"Days of the week\")\n",
    "plt.ylabel(\"Number of Orders\")\n",
    "plt.show()"
   ]
  },
  {
   "cell_type": "markdown",
   "metadata": {},
   "source": [
    "from the figure:"
   ]
  },
  {
   "cell_type": "markdown",
   "metadata": {},
   "source": [
    "Thusdays have the largest number of Orders with  more than 500 orders has the largest bar while Weekends that is Saturday with 300 orders, Sunday less than 300 orders have the smallest bars. The rest of the days have almost equal number of orders as shown by the size of their bars."
   ]
  },
  {
   "cell_type": "markdown",
   "metadata": {},
   "source": [
    "Conclusion: Most of consumers place their orders on Thursdays while only a few of them place orders on weekends.The rest of the days register almost the same number of orders."
   ]
  },
  {
   "cell_type": "markdown",
   "metadata": {},
   "source": [
    "8. Products with highest and few sales turnover"
   ]
  },
  {
   "cell_type": "code",
   "execution_count": 56,
   "metadata": {},
   "outputs": [
    {
     "data": {
      "text/html": [
       "<div>\n",
       "<style scoped>\n",
       "    .dataframe tbody tr th:only-of-type {\n",
       "        vertical-align: middle;\n",
       "    }\n",
       "\n",
       "    .dataframe tbody tr th {\n",
       "        vertical-align: top;\n",
       "    }\n",
       "\n",
       "    .dataframe thead th {\n",
       "        text-align: right;\n",
       "    }\n",
       "</style>\n",
       "<table border=\"1\" class=\"dataframe\">\n",
       "  <thead>\n",
       "    <tr style=\"text-align: right;\">\n",
       "      <th></th>\n",
       "      <th>mean</th>\n",
       "      <th>count</th>\n",
       "    </tr>\n",
       "    <tr>\n",
       "      <th>Product_name</th>\n",
       "      <th></th>\n",
       "      <th></th>\n",
       "    </tr>\n",
       "  </thead>\n",
       "  <tbody>\n",
       "    <tr>\n",
       "      <th>Global Wood Trimmed Manager's Task Chair, Khaki</th>\n",
       "      <td>233.136250</td>\n",
       "      <td>8</td>\n",
       "    </tr>\n",
       "    <tr>\n",
       "      <th>Easy-staple paper</th>\n",
       "      <td>64.129750</td>\n",
       "      <td>16</td>\n",
       "    </tr>\n",
       "    <tr>\n",
       "      <th>Staple envelope</th>\n",
       "      <td>31.040364</td>\n",
       "      <td>11</td>\n",
       "    </tr>\n",
       "    <tr>\n",
       "      <th>Staples in misc. colors</th>\n",
       "      <td>27.182333</td>\n",
       "      <td>12</td>\n",
       "    </tr>\n",
       "    <tr>\n",
       "      <th>Storex Dura Pro Binders</th>\n",
       "      <td>17.745750</td>\n",
       "      <td>8</td>\n",
       "    </tr>\n",
       "    <tr>\n",
       "      <th>Staples</th>\n",
       "      <td>15.630400</td>\n",
       "      <td>15</td>\n",
       "    </tr>\n",
       "    <tr>\n",
       "      <th>Staple remover</th>\n",
       "      <td>13.228000</td>\n",
       "      <td>8</td>\n",
       "    </tr>\n",
       "  </tbody>\n",
       "</table>\n",
       "</div>"
      ],
      "text/plain": [
       "                                                       mean  count\n",
       "Product_name                                                      \n",
       "Global Wood Trimmed Manager's Task Chair, Khaki  233.136250      8\n",
       "Easy-staple paper                                 64.129750     16\n",
       "Staple envelope                                   31.040364     11\n",
       "Staples in misc. colors                           27.182333     12\n",
       "Storex Dura Pro Binders                           17.745750      8\n",
       "Staples                                           15.630400     15\n",
       "Staple remover                                    13.228000      8"
      ]
     },
     "execution_count": 56,
     "metadata": {},
     "output_type": "execute_result"
    },
    {
     "data": {
      "text/plain": [
       "<Figure size 720x576 with 0 Axes>"
      ]
     },
     "metadata": {},
     "output_type": "display_data"
    }
   ],
   "source": [
    "plt.figure(figsize=(10, 8))\n",
    "product_sales = df.groupby(\"Product_name\")['Sales'].agg([\"mean\", \"count\"]).sort_values('mean', ascending=False)\n",
    "# products with sales turnover more than 8\n",
    "bestsales = product_sales[product_sales['count'] >= 8][:18]\n",
    "bestsales"
   ]
  },
  {
   "cell_type": "code",
   "execution_count": 55,
   "metadata": {},
   "outputs": [
    {
     "data": {
      "text/html": [
       "<div>\n",
       "<style scoped>\n",
       "    .dataframe tbody tr th:only-of-type {\n",
       "        vertical-align: middle;\n",
       "    }\n",
       "\n",
       "    .dataframe tbody tr th {\n",
       "        vertical-align: top;\n",
       "    }\n",
       "\n",
       "    .dataframe thead th {\n",
       "        text-align: right;\n",
       "    }\n",
       "</style>\n",
       "<table border=\"1\" class=\"dataframe\">\n",
       "  <thead>\n",
       "    <tr style=\"text-align: right;\">\n",
       "      <th></th>\n",
       "      <th>mean</th>\n",
       "      <th>count</th>\n",
       "    </tr>\n",
       "    <tr>\n",
       "      <th>Product_name</th>\n",
       "      <th></th>\n",
       "      <th></th>\n",
       "    </tr>\n",
       "  </thead>\n",
       "  <tbody>\n",
       "    <tr>\n",
       "      <th>Canon imageCLASS 2200 Advanced Copier</th>\n",
       "      <td>11899.966000</td>\n",
       "      <td>3</td>\n",
       "    </tr>\n",
       "    <tr>\n",
       "      <th>Cubify CubeX 3D Printer Triple Head Print</th>\n",
       "      <td>7999.980000</td>\n",
       "      <td>1</td>\n",
       "    </tr>\n",
       "    <tr>\n",
       "      <th>3D Systems Cube Printer, 2nd Generation, Magenta</th>\n",
       "      <td>5199.960000</td>\n",
       "      <td>1</td>\n",
       "    </tr>\n",
       "    <tr>\n",
       "      <th>Cubify CubeX 3D Printer Double Head Print</th>\n",
       "      <td>4799.984000</td>\n",
       "      <td>1</td>\n",
       "    </tr>\n",
       "    <tr>\n",
       "      <th>HON 5400 Series Task Chairs for Big and Tall</th>\n",
       "      <td>3610.047000</td>\n",
       "      <td>2</td>\n",
       "    </tr>\n",
       "    <tr>\n",
       "      <th>GBC DocuBind P400 Electric Binding System</th>\n",
       "      <td>3538.574000</td>\n",
       "      <td>2</td>\n",
       "    </tr>\n",
       "    <tr>\n",
       "      <th>Hewlett-Packard Desktjet 6988DT Refurbished Printer</th>\n",
       "      <td>3404.500000</td>\n",
       "      <td>1</td>\n",
       "    </tr>\n",
       "    <tr>\n",
       "      <th>Martin Yale Chadless Opener Electric Letter Opener</th>\n",
       "      <td>2956.475500</td>\n",
       "      <td>4</td>\n",
       "    </tr>\n",
       "    <tr>\n",
       "      <th>Lexmark MX611dhe Monochrome Laser Printer</th>\n",
       "      <td>2804.983500</td>\n",
       "      <td>2</td>\n",
       "    </tr>\n",
       "    <tr>\n",
       "      <th>Hon 94000 Series Round Tables</th>\n",
       "      <td>2665.620000</td>\n",
       "      <td>1</td>\n",
       "    </tr>\n",
       "    <tr>\n",
       "      <th>Hoover Shoulder Vac Commercial Portable Vacuum</th>\n",
       "      <td>2504.740000</td>\n",
       "      <td>1</td>\n",
       "    </tr>\n",
       "    <tr>\n",
       "      <th>ClearOne CHATAttach 160 - speaker phone</th>\n",
       "      <td>2479.960000</td>\n",
       "      <td>1</td>\n",
       "    </tr>\n",
       "    <tr>\n",
       "      <th>Fellowes PB500 Electric Punch Plastic Comb Binding Machine with Manual Bind</th>\n",
       "      <td>2457.247333</td>\n",
       "      <td>3</td>\n",
       "    </tr>\n",
       "    <tr>\n",
       "      <th>Okidata MB491 Multifunction Printer</th>\n",
       "      <td>2395.200000</td>\n",
       "      <td>1</td>\n",
       "    </tr>\n",
       "    <tr>\n",
       "      <th>Canon Imageclass D680 Copier / Fax</th>\n",
       "      <td>2379.966000</td>\n",
       "      <td>2</td>\n",
       "    </tr>\n",
       "    <tr>\n",
       "      <th>GBC DocuBind 200 Manual Binding Machine</th>\n",
       "      <td>2357.488000</td>\n",
       "      <td>1</td>\n",
       "    </tr>\n",
       "    <tr>\n",
       "      <th>Global Troy Executive Leather Low-Back Tilter</th>\n",
       "      <td>2329.557000</td>\n",
       "      <td>2</td>\n",
       "    </tr>\n",
       "    <tr>\n",
       "      <th>Hewlett Packard LaserJet 3310 Copier</th>\n",
       "      <td>2309.961500</td>\n",
       "      <td>4</td>\n",
       "    </tr>\n",
       "  </tbody>\n",
       "</table>\n",
       "</div>"
      ],
      "text/plain": [
       "                                                            mean  count\n",
       "Product_name                                                           \n",
       "Canon imageCLASS 2200 Advanced Copier               11899.966000      3\n",
       "Cubify CubeX 3D Printer Triple Head Print            7999.980000      1\n",
       "3D Systems Cube Printer, 2nd Generation, Magenta     5199.960000      1\n",
       "Cubify CubeX 3D Printer Double Head Print            4799.984000      1\n",
       "HON 5400 Series Task Chairs for Big and Tall         3610.047000      2\n",
       "GBC DocuBind P400 Electric Binding System            3538.574000      2\n",
       "Hewlett-Packard Desktjet 6988DT Refurbished Pri...   3404.500000      1\n",
       "Martin Yale Chadless Opener Electric Letter Opener   2956.475500      4\n",
       "Lexmark MX611dhe Monochrome Laser Printer            2804.983500      2\n",
       "Hon 94000 Series Round Tables                        2665.620000      1\n",
       "Hoover Shoulder Vac Commercial Portable Vacuum       2504.740000      1\n",
       "ClearOne CHATAttach 160 - speaker phone              2479.960000      1\n",
       "Fellowes PB500 Electric Punch Plastic Comb Bind...   2457.247333      3\n",
       "Okidata MB491 Multifunction Printer                  2395.200000      1\n",
       "Canon Imageclass D680 Copier / Fax                   2379.966000      2\n",
       "GBC DocuBind 200 Manual Binding Machine              2357.488000      1\n",
       "Global Troy Executive Leather Low-Back Tilter        2329.557000      2\n",
       "Hewlett Packard LaserJet 3310 Copier                 2309.961500      4"
      ]
     },
     "execution_count": 55,
     "metadata": {},
     "output_type": "execute_result"
    }
   ],
   "source": [
    "# products with smallest turnovers\n",
    "worstSales = product_sales[product_sales['count'] <= 8][:18]\n",
    "worstSales"
   ]
  },
  {
   "cell_type": "markdown",
   "metadata": {},
   "source": [
    "It seems most of the products that were sold infrequentry are technological products with high price tags"
   ]
  },
  {
   "cell_type": "markdown",
   "metadata": {},
   "source": [
    "                          Recency, Frequency and Monetary (RFM) Analysis"
   ]
  },
  {
   "cell_type": "markdown",
   "metadata": {},
   "source": [
    "RFM (Recency, Frequency, Monetary) analysis is a customer segmentation technique that uses past purchase behavior to divide customers into groups. RFM helps divide customers into various categories or clusters to identify customers who are more likely to respond to promotions and also for future personalization services.\n",
    "\n",
    "Recency (R): The number of days between present date and last date purchase of each customer."
   ]
  },
  {
   "cell_type": "markdown",
   "metadata": {},
   "source": [
    "Frequency (F): Total number of times a consumer purchased goods/services from us"
   ]
  },
  {
   "cell_type": "markdown",
   "metadata": {},
   "source": [
    "Monetary Value (M): Total money spent by a particular customer on our business."
   ]
  },
  {
   "cell_type": "code",
   "execution_count": 152,
   "metadata": {},
   "outputs": [
    {
     "data": {
      "text/html": [
       "<div>\n",
       "<style scoped>\n",
       "    .dataframe tbody tr th:only-of-type {\n",
       "        vertical-align: middle;\n",
       "    }\n",
       "\n",
       "    .dataframe tbody tr th {\n",
       "        vertical-align: top;\n",
       "    }\n",
       "\n",
       "    .dataframe thead th {\n",
       "        text-align: right;\n",
       "    }\n",
       "</style>\n",
       "<table border=\"1\" class=\"dataframe\">\n",
       "  <thead>\n",
       "    <tr style=\"text-align: right;\">\n",
       "      <th></th>\n",
       "      <th>Customer_ID</th>\n",
       "      <th>Last_purchasedate</th>\n",
       "      <th>Recency</th>\n",
       "    </tr>\n",
       "  </thead>\n",
       "  <tbody>\n",
       "    <tr>\n",
       "      <th>0</th>\n",
       "      <td>AA-10315</td>\n",
       "      <td>2020-06-29</td>\n",
       "      <td>184</td>\n",
       "    </tr>\n",
       "    <tr>\n",
       "      <th>1</th>\n",
       "      <td>AA-10375</td>\n",
       "      <td>2020-11-12</td>\n",
       "      <td>48</td>\n",
       "    </tr>\n",
       "    <tr>\n",
       "      <th>2</th>\n",
       "      <td>AA-10480</td>\n",
       "      <td>2020-04-15</td>\n",
       "      <td>259</td>\n",
       "    </tr>\n",
       "    <tr>\n",
       "      <th>3</th>\n",
       "      <td>AA-10645</td>\n",
       "      <td>2020-05-11</td>\n",
       "      <td>233</td>\n",
       "    </tr>\n",
       "    <tr>\n",
       "      <th>4</th>\n",
       "      <td>AB-10060</td>\n",
       "      <td>2020-09-16</td>\n",
       "      <td>105</td>\n",
       "    </tr>\n",
       "  </tbody>\n",
       "</table>\n",
       "</div>"
      ],
      "text/plain": [
       "  Customer_ID Last_purchasedate  Recency\n",
       "0    AA-10315        2020-06-29      184\n",
       "1    AA-10375        2020-11-12       48\n",
       "2    AA-10480        2020-04-15      259\n",
       "3    AA-10645        2020-05-11      233\n",
       "4    AB-10060        2020-09-16      105"
      ]
     },
     "execution_count": 152,
     "metadata": {},
     "output_type": "execute_result"
    }
   ],
   "source": [
    "#RFm analysis\n",
    "df_recency = df.groupby(\"Customer_ID\", as_index=False)['Order_date'].max()\n",
    "df_recency.rename(columns={\"Order_date\": \"Last_purchasedate\"}, inplace=True)\n",
    "df_recency['Last_purchasedate'] = df_recency['Last_purchasedate'].dt.date\n",
    "recent_date = df['Order_date'].dt.date.max()\n",
    "df_recency['Recency'] = df_recency['Last_purchasedate'].apply(lambda x : (recent_date - x).days)\n",
    "df_recency.head()"
   ]
  },
  {
   "cell_type": "code",
   "execution_count": 157,
   "metadata": {},
   "outputs": [
    {
     "data": {
      "text/html": [
       "<div>\n",
       "<style scoped>\n",
       "    .dataframe tbody tr th:only-of-type {\n",
       "        vertical-align: middle;\n",
       "    }\n",
       "\n",
       "    .dataframe tbody tr th {\n",
       "        vertical-align: top;\n",
       "    }\n",
       "\n",
       "    .dataframe thead th {\n",
       "        text-align: right;\n",
       "    }\n",
       "</style>\n",
       "<table border=\"1\" class=\"dataframe\">\n",
       "  <thead>\n",
       "    <tr style=\"text-align: right;\">\n",
       "      <th></th>\n",
       "      <th>Customer_ID</th>\n",
       "      <th>Frequency</th>\n",
       "    </tr>\n",
       "  </thead>\n",
       "  <tbody>\n",
       "    <tr>\n",
       "      <th>0</th>\n",
       "      <td>AA-10315</td>\n",
       "      <td>1</td>\n",
       "    </tr>\n",
       "    <tr>\n",
       "      <th>1</th>\n",
       "      <td>AA-10375</td>\n",
       "      <td>2</td>\n",
       "    </tr>\n",
       "    <tr>\n",
       "      <th>2</th>\n",
       "      <td>AA-10480</td>\n",
       "      <td>1</td>\n",
       "    </tr>\n",
       "    <tr>\n",
       "      <th>3</th>\n",
       "      <td>AA-10645</td>\n",
       "      <td>1</td>\n",
       "    </tr>\n",
       "    <tr>\n",
       "      <th>4</th>\n",
       "      <td>AB-10060</td>\n",
       "      <td>4</td>\n",
       "    </tr>\n",
       "    <tr>\n",
       "      <th>5</th>\n",
       "      <td>AB-10105</td>\n",
       "      <td>5</td>\n",
       "    </tr>\n",
       "    <tr>\n",
       "      <th>6</th>\n",
       "      <td>AB-10150</td>\n",
       "      <td>2</td>\n",
       "    </tr>\n",
       "  </tbody>\n",
       "</table>\n",
       "</div>"
      ],
      "text/plain": [
       "  Customer_ID  Frequency\n",
       "0    AA-10315          1\n",
       "1    AA-10375          2\n",
       "2    AA-10480          1\n",
       "3    AA-10645          1\n",
       "4    AB-10060          4\n",
       "5    AB-10105          5\n",
       "6    AB-10150          2"
      ]
     },
     "execution_count": 157,
     "metadata": {},
     "output_type": "execute_result"
    }
   ],
   "source": [
    "#frequency\n",
    "frequency_df = df.groupby(\"Customer_ID\").agg({\"Order_ID\": \"nunique\"}).reset_index()\n",
    "frequency_df.rename(columns={\"Order_ID\": \"Frequency\"}, inplace=True)\n",
    "frequency_df.head(7)"
   ]
  },
  {
   "cell_type": "code",
   "execution_count": 171,
   "metadata": {},
   "outputs": [
    {
     "data": {
      "text/html": [
       "<div>\n",
       "<style scoped>\n",
       "    .dataframe tbody tr th:only-of-type {\n",
       "        vertical-align: middle;\n",
       "    }\n",
       "\n",
       "    .dataframe tbody tr th {\n",
       "        vertical-align: top;\n",
       "    }\n",
       "\n",
       "    .dataframe thead th {\n",
       "        text-align: right;\n",
       "    }\n",
       "</style>\n",
       "<table border=\"1\" class=\"dataframe\">\n",
       "  <thead>\n",
       "    <tr style=\"text-align: right;\">\n",
       "      <th></th>\n",
       "      <th>Customer_ID</th>\n",
       "      <th>Monetary_value</th>\n",
       "    </tr>\n",
       "  </thead>\n",
       "  <tbody>\n",
       "    <tr>\n",
       "      <th>0</th>\n",
       "      <td>AA-10315</td>\n",
       "      <td>374.480</td>\n",
       "    </tr>\n",
       "    <tr>\n",
       "      <th>1</th>\n",
       "      <td>AA-10375</td>\n",
       "      <td>206.732</td>\n",
       "    </tr>\n",
       "    <tr>\n",
       "      <th>2</th>\n",
       "      <td>AA-10480</td>\n",
       "      <td>15.552</td>\n",
       "    </tr>\n",
       "    <tr>\n",
       "      <th>3</th>\n",
       "      <td>AA-10645</td>\n",
       "      <td>12.960</td>\n",
       "    </tr>\n",
       "    <tr>\n",
       "      <th>4</th>\n",
       "      <td>AB-10060</td>\n",
       "      <td>2936.264</td>\n",
       "    </tr>\n",
       "    <tr>\n",
       "      <th>5</th>\n",
       "      <td>AB-10105</td>\n",
       "      <td>2291.044</td>\n",
       "    </tr>\n",
       "    <tr>\n",
       "      <th>6</th>\n",
       "      <td>AB-10150</td>\n",
       "      <td>230.656</td>\n",
       "    </tr>\n",
       "    <tr>\n",
       "      <th>7</th>\n",
       "      <td>AB-10165</td>\n",
       "      <td>416.272</td>\n",
       "    </tr>\n",
       "  </tbody>\n",
       "</table>\n",
       "</div>"
      ],
      "text/plain": [
       "  Customer_ID  Monetary_value\n",
       "0    AA-10315         374.480\n",
       "1    AA-10375         206.732\n",
       "2    AA-10480          15.552\n",
       "3    AA-10645          12.960\n",
       "4    AB-10060        2936.264\n",
       "5    AB-10105        2291.044\n",
       "6    AB-10150         230.656\n",
       "7    AB-10165         416.272"
      ]
     },
     "execution_count": 171,
     "metadata": {},
     "output_type": "execute_result"
    }
   ],
   "source": [
    "monetary_df = df.groupby(\"Customer_ID\", as_index=False)['Sales'].sum()\n",
    "monetary_df.rename(columns = {\"Sales\": \"Monetary_value\"}, inplace=True)\n",
    "monetary_df.head(8)"
   ]
  },
  {
   "cell_type": "code",
   "execution_count": 172,
   "metadata": {},
   "outputs": [
    {
     "data": {
      "text/html": [
       "<div>\n",
       "<style scoped>\n",
       "    .dataframe tbody tr th:only-of-type {\n",
       "        vertical-align: middle;\n",
       "    }\n",
       "\n",
       "    .dataframe tbody tr th {\n",
       "        vertical-align: top;\n",
       "    }\n",
       "\n",
       "    .dataframe thead th {\n",
       "        text-align: right;\n",
       "    }\n",
       "</style>\n",
       "<table border=\"1\" class=\"dataframe\">\n",
       "  <thead>\n",
       "    <tr style=\"text-align: right;\">\n",
       "      <th></th>\n",
       "      <th>Customer_ID</th>\n",
       "      <th>Recency</th>\n",
       "      <th>Frequency</th>\n",
       "      <th>Monetary_value</th>\n",
       "    </tr>\n",
       "  </thead>\n",
       "  <tbody>\n",
       "    <tr>\n",
       "      <th>0</th>\n",
       "      <td>AA-10315</td>\n",
       "      <td>184</td>\n",
       "      <td>1</td>\n",
       "      <td>374.480</td>\n",
       "    </tr>\n",
       "    <tr>\n",
       "      <th>1</th>\n",
       "      <td>AA-10375</td>\n",
       "      <td>48</td>\n",
       "      <td>2</td>\n",
       "      <td>206.732</td>\n",
       "    </tr>\n",
       "    <tr>\n",
       "      <th>2</th>\n",
       "      <td>AA-10480</td>\n",
       "      <td>259</td>\n",
       "      <td>1</td>\n",
       "      <td>15.552</td>\n",
       "    </tr>\n",
       "    <tr>\n",
       "      <th>3</th>\n",
       "      <td>AA-10645</td>\n",
       "      <td>233</td>\n",
       "      <td>1</td>\n",
       "      <td>12.960</td>\n",
       "    </tr>\n",
       "    <tr>\n",
       "      <th>4</th>\n",
       "      <td>AB-10060</td>\n",
       "      <td>105</td>\n",
       "      <td>4</td>\n",
       "      <td>2936.264</td>\n",
       "    </tr>\n",
       "    <tr>\n",
       "      <th>5</th>\n",
       "      <td>AB-10105</td>\n",
       "      <td>41</td>\n",
       "      <td>5</td>\n",
       "      <td>2291.044</td>\n",
       "    </tr>\n",
       "    <tr>\n",
       "      <th>6</th>\n",
       "      <td>AB-10150</td>\n",
       "      <td>41</td>\n",
       "      <td>2</td>\n",
       "      <td>230.656</td>\n",
       "    </tr>\n",
       "    <tr>\n",
       "      <th>7</th>\n",
       "      <td>AB-10165</td>\n",
       "      <td>106</td>\n",
       "      <td>4</td>\n",
       "      <td>416.272</td>\n",
       "    </tr>\n",
       "    <tr>\n",
       "      <th>8</th>\n",
       "      <td>AB-10255</td>\n",
       "      <td>166</td>\n",
       "      <td>3</td>\n",
       "      <td>738.674</td>\n",
       "    </tr>\n",
       "    <tr>\n",
       "      <th>9</th>\n",
       "      <td>AB-10600</td>\n",
       "      <td>80</td>\n",
       "      <td>1</td>\n",
       "      <td>1475.054</td>\n",
       "    </tr>\n",
       "  </tbody>\n",
       "</table>\n",
       "</div>"
      ],
      "text/plain": [
       "  Customer_ID  Recency  Frequency  Monetary_value\n",
       "0    AA-10315      184          1         374.480\n",
       "1    AA-10375       48          2         206.732\n",
       "2    AA-10480      259          1          15.552\n",
       "3    AA-10645      233          1          12.960\n",
       "4    AB-10060      105          4        2936.264\n",
       "5    AB-10105       41          5        2291.044\n",
       "6    AB-10150       41          2         230.656\n",
       "7    AB-10165      106          4         416.272\n",
       "8    AB-10255      166          3         738.674\n",
       "9    AB-10600       80          1        1475.054"
      ]
     },
     "execution_count": 172,
     "metadata": {},
     "output_type": "execute_result"
    }
   ],
   "source": [
    "RFM_df = df_recency.merge(frequency_df, on=\"Customer_ID\").merge(monetary_df, on='Customer_ID').drop(columns='Last_purchasedate', axis=1)\n",
    "RFM_df.head(10)\n"
   ]
  },
  {
   "cell_type": "code",
   "execution_count": 174,
   "metadata": {},
   "outputs": [],
   "source": [
    "# removing zeros in our data\n",
    "RFM_df[RFM_df.columns[1:]] = RFM_df[RFM_df.columns[1:]].applymap(lambda x : 1 if x == 0 else x)"
   ]
  },
  {
   "cell_type": "markdown",
   "metadata": {},
   "source": [
    "       Normalisation"
   ]
  },
  {
   "cell_type": "markdown",
   "metadata": {},
   "source": [
    "Before we conduct Kmeans clustering is better we check skewness of  our data"
   ]
  },
  {
   "cell_type": "code",
   "execution_count": 177,
   "metadata": {},
   "outputs": [],
   "source": [
    "from scipy import stats\n",
    "# a function to check skewness of data\n",
    "def check_skew(df_skew, column):\n",
    "    skew = stats.skew(df_skew[column])\n",
    "    skewtest = stats.skewtest(df_skew[column])\n",
    "    plt.title(\"Distribution of \" + column)\n",
    "    #plotting skewness of data\n",
    "    sns.distplot(df_skew[column])\n",
    "    plt.show()\n",
    "    print(\"{}'s: Skew: {}, :{}\".format(column, skew, skewtest))\n",
    "    return"
   ]
  },
  {
   "cell_type": "code",
   "execution_count": 179,
   "metadata": {},
   "outputs": [
    {
     "name": "stderr",
     "output_type": "stream",
     "text": [
      "c:\\Users\\test\\AppData\\Local\\Programs\\Python\\Python39\\lib\\site-packages\\seaborn\\distributions.py:2619: FutureWarning: `distplot` is a deprecated function and will be removed in a future version. Please adapt your code to use either `displot` (a figure-level function with similar flexibility) or `histplot` (an axes-level function for histograms).\n",
      "  warnings.warn(msg, FutureWarning)\n"
     ]
    },
    {
     "data": {
      "image/png": "[encoded data removed]",
      "text/plain": [
       "<Figure size 432x288 with 1 Axes>"
      ]
     },
     "metadata": {
      "needs_background": "light"
     },
     "output_type": "display_data"
    },
    {
     "name": "stdout",
     "output_type": "stream",
     "text": [
      "Recency's: Skew: 1.0270084156768817, :SkewtestResult(statistic=9.370983604133878, pvalue=7.185969690459123e-21)\n"
     ]
    },
    {
     "name": "stderr",
     "output_type": "stream",
     "text": [
      "c:\\Users\\test\\AppData\\Local\\Programs\\Python\\Python39\\lib\\site-packages\\seaborn\\distributions.py:2619: FutureWarning: `distplot` is a deprecated function and will be removed in a future version. Please adapt your code to use either `displot` (a figure-level function with similar flexibility) or `histplot` (an axes-level function for histograms).\n",
      "  warnings.warn(msg, FutureWarning)\n"
     ]
    },
    {
     "data": {
      "image/png": "[encoded data removed]",
      "text/plain": [
       "<Figure size 432x288 with 1 Axes>"
      ]
     },
     "metadata": {
      "needs_background": "light"
     },
     "output_type": "display_data"
    },
    {
     "name": "stdout",
     "output_type": "stream",
     "text": [
      "Frequency's: Skew: 0.8740374567334025, :SkewtestResult(statistic=8.27800824546187, pvalue=1.2525255732542123e-16)\n"
     ]
    },
    {
     "name": "stderr",
     "output_type": "stream",
     "text": [
      "c:\\Users\\test\\AppData\\Local\\Programs\\Python\\Python39\\lib\\site-packages\\seaborn\\distributions.py:2619: FutureWarning: `distplot` is a deprecated function and will be removed in a future version. Please adapt your code to use either `displot` (a figure-level function with similar flexibility) or `histplot` (an axes-level function for histograms).\n",
      "  warnings.warn(msg, FutureWarning)\n"
     ]
    },
    {
     "data": {
      "image/png": "[encoded data removed]",
      "text/plain": [
       "<Figure size 432x288 with 1 Axes>"
      ]
     },
     "metadata": {
      "needs_background": "light"
     },
     "output_type": "display_data"
    },
    {
     "name": "stdout",
     "output_type": "stream",
     "text": [
      "Monetary_value's: Skew: 3.826135751727133, :SkewtestResult(statistic=20.12375970043745, pvalue=4.570667710146086e-90)\n"
     ]
    }
   ],
   "source": [
    "# iterating through the columns to check skewness\n",
    "for col in RFM_df.columns[1:]:\n",
    "    check_skew(RFM_df, col)"
   ]
  },
  {
   "cell_type": "markdown",
   "metadata": {},
   "source": [
    "skewness with a value greater than 1 or less than -1 indicates a highly skewed distribution. A value between 0.5 and 1 or -0.5 and -1 is moderately skewed. A value between -0.5 and 0.5 indicates that the distribution is fairly symmetrical."
   ]
  },
  {
   "cell_type": "markdown",
   "metadata": {},
   "source": [
    "In Order to remove skewness, logarithmic transformations will be applied to this data"
   ]
  },
  {
   "cell_type": "code",
   "execution_count": 180,
   "metadata": {},
   "outputs": [],
   "source": [
    "RFM_df_log = RFM_df.copy()\n",
    "# iterating through the columns and applying base 10 logarithmic function\n",
    "for cols in RFM_df.columns[2:]:\n",
    "    RFM_df_log[cols] = np.log10(RFM_df_log[cols])"
   ]
  },
  {
   "cell_type": "code",
   "execution_count": 182,
   "metadata": {},
   "outputs": [
    {
     "name": "stderr",
     "output_type": "stream",
     "text": [
      "c:\\Users\\test\\AppData\\Local\\Programs\\Python\\Python39\\lib\\site-packages\\seaborn\\distributions.py:2619: FutureWarning: `distplot` is a deprecated function and will be removed in a future version. Please adapt your code to use either `displot` (a figure-level function with similar flexibility) or `histplot` (an axes-level function for histograms).\n",
      "  warnings.warn(msg, FutureWarning)\n"
     ]
    },
    {
     "data": {
      "image/png": "[encoded data removed]",
      "text/plain": [
       "<Figure size 432x288 with 1 Axes>"
      ]
     },
     "metadata": {
      "needs_background": "light"
     },
     "output_type": "display_data"
    },
    {
     "name": "stdout",
     "output_type": "stream",
     "text": [
      "Recency's: Skew: 1.0270084156768817, :SkewtestResult(statistic=9.370983604133878, pvalue=7.185969690459123e-21)\n"
     ]
    },
    {
     "name": "stderr",
     "output_type": "stream",
     "text": [
      "c:\\Users\\test\\AppData\\Local\\Programs\\Python\\Python39\\lib\\site-packages\\seaborn\\distributions.py:2619: FutureWarning: `distplot` is a deprecated function and will be removed in a future version. Please adapt your code to use either `displot` (a figure-level function with similar flexibility) or `histplot` (an axes-level function for histograms).\n",
      "  warnings.warn(msg, FutureWarning)\n"
     ]
    },
    {
     "data": {
      "image/png": "[encoded data removed]",
      "text/plain": [
       "<Figure size 432x288 with 1 Axes>"
      ]
     },
     "metadata": {
      "needs_background": "light"
     },
     "output_type": "display_data"
    },
    {
     "name": "stdout",
     "output_type": "stream",
     "text": [
      "Frequency's: Skew: -0.07117909258314377, :SkewtestResult(statistic=-0.772094835705647, pvalue=0.44005826068804654)\n"
     ]
    },
    {
     "name": "stderr",
     "output_type": "stream",
     "text": [
      "c:\\Users\\test\\AppData\\Local\\Programs\\Python\\Python39\\lib\\site-packages\\seaborn\\distributions.py:2619: FutureWarning: `distplot` is a deprecated function and will be removed in a future version. Please adapt your code to use either `displot` (a figure-level function with similar flexibility) or `histplot` (an axes-level function for histograms).\n",
      "  warnings.warn(msg, FutureWarning)\n"
     ]
    },
    {
     "data": {
      "image/png": "[encoded data removed]",
      "text/plain": [
       "<Figure size 432x288 with 1 Axes>"
      ]
     },
     "metadata": {
      "needs_background": "light"
     },
     "output_type": "display_data"
    },
    {
     "name": "stdout",
     "output_type": "stream",
     "text": [
      "Monetary_value's: Skew: -0.7885415957320923, :SkewtestResult(statistic=-7.621994093615499, pvalue=2.4978646847378672e-14)\n"
     ]
    }
   ],
   "source": [
    "# checking skewness after applying logarithmic transformation\n",
    "for c in RFM_df.columns[1:]:\n",
    "    check_skew(RFM_df_log, c)"
   ]
  },
  {
   "cell_type": "markdown",
   "metadata": {},
   "source": [
    "skewness has not been eliminated but most of it has been removed"
   ]
  },
  {
   "cell_type": "markdown",
   "metadata": {},
   "source": [
    "Scaling Data"
   ]
  },
  {
   "cell_type": "markdown",
   "metadata": {},
   "source": [
    "we will scale our data since K-means clustering is \"isotropic\" in all directions of space and therefore tends to produce more or less round (rather than elongated) clusters. In this situation leaving variances unequal is equivalent to putting more weight on variables with smaller variance, so clusters will tend to be separated along variables with greater variance."
   ]
  },
  {
   "cell_type": "markdown",
   "metadata": {},
   "source": [
    "                                                                                        from stackoverflow"
   ]
  },
  {
   "cell_type": "code",
   "execution_count": 186,
   "metadata": {},
   "outputs": [
    {
     "data": {
      "text/html": [
       "<div>\n",
       "<style scoped>\n",
       "    .dataframe tbody tr th:only-of-type {\n",
       "        vertical-align: middle;\n",
       "    }\n",
       "\n",
       "    .dataframe tbody tr th {\n",
       "        vertical-align: top;\n",
       "    }\n",
       "\n",
       "    .dataframe thead th {\n",
       "        text-align: right;\n",
       "    }\n",
       "</style>\n",
       "<table border=\"1\" class=\"dataframe\">\n",
       "  <thead>\n",
       "    <tr style=\"text-align: right;\">\n",
       "      <th></th>\n",
       "      <th>Recency</th>\n",
       "      <th>Frequency</th>\n",
       "      <th>Monetary_value</th>\n",
       "    </tr>\n",
       "  </thead>\n",
       "  <tbody>\n",
       "    <tr>\n",
       "      <th>0</th>\n",
       "      <td>0.860239</td>\n",
       "      <td>-1.344803</td>\n",
       "      <td>-0.126113</td>\n",
       "    </tr>\n",
       "    <tr>\n",
       "      <th>1</th>\n",
       "      <td>-0.611058</td>\n",
       "      <td>-0.089972</td>\n",
       "      <td>-0.511995</td>\n",
       "    </tr>\n",
       "    <tr>\n",
       "      <th>2</th>\n",
       "      <td>1.671616</td>\n",
       "      <td>-1.344803</td>\n",
       "      <td>-2.192422</td>\n",
       "    </tr>\n",
       "    <tr>\n",
       "      <th>3</th>\n",
       "      <td>1.390339</td>\n",
       "      <td>-1.344803</td>\n",
       "      <td>-2.310841</td>\n",
       "    </tr>\n",
       "    <tr>\n",
       "      <th>4</th>\n",
       "      <td>0.005589</td>\n",
       "      <td>1.164858</td>\n",
       "      <td>1.211453</td>\n",
       "    </tr>\n",
       "    <tr>\n",
       "      <th>...</th>\n",
       "      <td>...</td>\n",
       "      <td>...</td>\n",
       "      <td>...</td>\n",
       "    </tr>\n",
       "    <tr>\n",
       "      <th>688</th>\n",
       "      <td>-0.665149</td>\n",
       "      <td>1.164858</td>\n",
       "      <td>-0.007787</td>\n",
       "    </tr>\n",
       "    <tr>\n",
       "      <th>689</th>\n",
       "      <td>-1.087065</td>\n",
       "      <td>-1.344803</td>\n",
       "      <td>0.325581</td>\n",
       "    </tr>\n",
       "    <tr>\n",
       "      <th>690</th>\n",
       "      <td>-1.032974</td>\n",
       "      <td>1.568823</td>\n",
       "      <td>1.599947</td>\n",
       "    </tr>\n",
       "    <tr>\n",
       "      <th>691</th>\n",
       "      <td>-0.546148</td>\n",
       "      <td>1.164858</td>\n",
       "      <td>-0.451060</td>\n",
       "    </tr>\n",
       "    <tr>\n",
       "      <th>692</th>\n",
       "      <td>-0.546148</td>\n",
       "      <td>-1.344803</td>\n",
       "      <td>-1.300083</td>\n",
       "    </tr>\n",
       "  </tbody>\n",
       "</table>\n",
       "<p>693 rows × 3 columns</p>\n",
       "</div>"
      ],
      "text/plain": [
       "      Recency  Frequency  Monetary_value\n",
       "0    0.860239  -1.344803       -0.126113\n",
       "1   -0.611058  -0.089972       -0.511995\n",
       "2    1.671616  -1.344803       -2.192422\n",
       "3    1.390339  -1.344803       -2.310841\n",
       "4    0.005589   1.164858        1.211453\n",
       "..        ...        ...             ...\n",
       "688 -0.665149   1.164858       -0.007787\n",
       "689 -1.087065  -1.344803        0.325581\n",
       "690 -1.032974   1.568823        1.599947\n",
       "691 -0.546148   1.164858       -0.451060\n",
       "692 -0.546148  -1.344803       -1.300083\n",
       "\n",
       "[693 rows x 3 columns]"
      ]
     },
     "execution_count": 186,
     "metadata": {},
     "output_type": "execute_result"
    }
   ],
   "source": [
    "from sklearn.preprocessing import StandardScaler\n",
    "scaler = StandardScaler()\n",
    "RFM_df_table = scaler.fit_transform(RFM_df_log.drop(\"Customer_ID\", axis=1))\n",
    "RFM_table = pd.DataFrame(RFM_df_table, columns= RFM_df_log.columns[1:])\n",
    "RFM_table"
   ]
  },
  {
   "cell_type": "markdown",
   "metadata": {},
   "source": [
    "                                       Kmeans Clustering"
   ]
  },
  {
   "cell_type": "markdown",
   "metadata": {},
   "source": [
    "This is unsupervised clustering algorithm that groups  unlabelled data depending on how they are laid up in a space. It Uses eucledian distance which measures the difference between 2 points that is if there is point x and y, eucledian distance is ||x - y||."
   ]
  },
  {
   "cell_type": "markdown",
   "metadata": {},
   "source": [
    "It works by ensuring that each data point is assigned to one\n",
    "and only one cluster in a sample space. Thus the algorithm learns to position the cluster centers such that\n",
    "the total sum of the Euclidean distance between each data point and its cluster center is minimized. Using KMeans, we will segment consumers based on the recency, frequency and monetary value of their purchases."
   ]
  },
  {
   "cell_type": "code",
   "execution_count": 187,
   "metadata": {},
   "outputs": [],
   "source": [
    "from sklearn.cluster import KMeans\n",
    "#an empty lit\n",
    "distortions = []\n",
    "# a range of possible clusters in our data\n",
    "K = range(1, 10)\n",
    "# iterating through the possible number of clusters\n",
    "for k in K:\n",
    "    kmeansModel = KMeans(n_clusters = k)\n",
    "    # training our data\n",
    "    kmeansModel.fit(RFM_table)\n",
    "    # measurinf how our data was measured and appending it into our empty list\n",
    "    distortions.append(kmeansModel.inertia_)"
   ]
  },
  {
   "cell_type": "markdown",
   "metadata": {},
   "source": [
    "Elbow Plot"
   ]
  },
  {
   "cell_type": "markdown",
   "metadata": {},
   "source": [
    "This is a plot that shows the modeller the appropriate number of clusters to be used in our model"
   ]
  },
  {
   "cell_type": "code",
   "execution_count": 188,
   "metadata": {},
   "outputs": [
    {
     "data": {
      "image/png": "[encoded data removed]",
      "text/plain": [
       "<Figure size 864x576 with 1 Axes>"
      ]
     },
     "metadata": {
      "needs_background": "light"
     },
     "output_type": "display_data"
    }
   ],
   "source": [
    "plt.figure(figsize=(12, 8))\n",
    "plt.plot(K, distortions, 'bx-')\n",
    "plt.ylabel(\"distortions\")\n",
    "plt.xlabel(\"Number of clusters\")\n",
    "plt.title(\"The elbow method for the optimal number of clusters\")\n",
    "plt.show()"
   ]
  },
  {
   "cell_type": "markdown",
   "metadata": {},
   "source": [
    "from the figure above:"
   ]
  },
  {
   "cell_type": "markdown",
   "metadata": {},
   "source": [
    "An elbow forms at 3 showing that it is the appropriate number of clusters since it is at this point that inertia start to decrease in a linear manner."
   ]
  },
  {
   "cell_type": "code",
   "execution_count": 194,
   "metadata": {},
   "outputs": [],
   "source": [
    "# uing the 3 clusters in our model\n",
    "kmeans_model = KMeans(n_clusters=3, random_state=3)\n",
    "kmeans_y = kmeans_model.fit_predict(RFM_table)\n",
    "#receiving labels as indices of our clusters\n",
    "RFM_df['Clusters'] = kmeans_model.labels_"
   ]
  },
  {
   "cell_type": "code",
   "execution_count": 195,
   "metadata": {},
   "outputs": [],
   "source": [
    "# a function to visualize clusters\n",
    "def rfm_values(df):\n",
    "    df_new = df.groupby(['Clusters']).agg({\n",
    "        \"Recency\" : \"mean\",\n",
    "        \"Frequency\" : \"mean\",\n",
    "        \"Monetary_value\" : [\"count\", \"mean\"]\n",
    "    }).round(0)\n",
    "    return df_new"
   ]
  },
  {
   "cell_type": "code",
   "execution_count": 196,
   "metadata": {},
   "outputs": [
    {
     "data": {
      "text/html": [
       "<div>\n",
       "<style scoped>\n",
       "    .dataframe tbody tr th:only-of-type {\n",
       "        vertical-align: middle;\n",
       "    }\n",
       "\n",
       "    .dataframe tbody tr th {\n",
       "        vertical-align: top;\n",
       "    }\n",
       "\n",
       "    .dataframe thead tr th {\n",
       "        text-align: left;\n",
       "    }\n",
       "\n",
       "    .dataframe thead tr:last-of-type th {\n",
       "        text-align: right;\n",
       "    }\n",
       "</style>\n",
       "<table border=\"1\" class=\"dataframe\">\n",
       "  <thead>\n",
       "    <tr>\n",
       "      <th></th>\n",
       "      <th>Recency</th>\n",
       "      <th>Frequency</th>\n",
       "      <th colspan=\"2\" halign=\"left\">Monetary_value</th>\n",
       "    </tr>\n",
       "    <tr>\n",
       "      <th></th>\n",
       "      <th>mean</th>\n",
       "      <th>mean</th>\n",
       "      <th>count</th>\n",
       "      <th>mean</th>\n",
       "    </tr>\n",
       "    <tr>\n",
       "      <th>Clusters</th>\n",
       "      <th></th>\n",
       "      <th></th>\n",
       "      <th></th>\n",
       "      <th></th>\n",
       "    </tr>\n",
       "  </thead>\n",
       "  <tbody>\n",
       "    <tr>\n",
       "      <th>0</th>\n",
       "      <td>71.0</td>\n",
       "      <td>1.0</td>\n",
       "      <td>169</td>\n",
       "      <td>272.0</td>\n",
       "    </tr>\n",
       "    <tr>\n",
       "      <th>1</th>\n",
       "      <td>252.0</td>\n",
       "      <td>1.0</td>\n",
       "      <td>150</td>\n",
       "      <td>632.0</td>\n",
       "    </tr>\n",
       "    <tr>\n",
       "      <th>2</th>\n",
       "      <td>61.0</td>\n",
       "      <td>3.0</td>\n",
       "      <td>374</td>\n",
       "      <td>1584.0</td>\n",
       "    </tr>\n",
       "  </tbody>\n",
       "</table>\n",
       "</div>"
      ],
      "text/plain": [
       "         Recency Frequency Monetary_value        \n",
       "            mean      mean          count    mean\n",
       "Clusters                                         \n",
       "0           71.0       1.0            169   272.0\n",
       "1          252.0       1.0            150   632.0\n",
       "2           61.0       3.0            374  1584.0"
      ]
     },
     "execution_count": 196,
     "metadata": {},
     "output_type": "execute_result"
    }
   ],
   "source": [
    "rfm_values(RFM_df)"
   ]
  },
  {
   "cell_type": "markdown",
   "metadata": {},
   "source": []
  },
  {
   "cell_type": "markdown",
   "metadata": {},
   "source": [
    "Note:\n",
    "references:"
   ]
  },
  {
   "cell_type": "markdown",
   "metadata": {},
   "source": [
    " https://datascience.stackexchange.com/questions/22795/do-clustering-algorithms-need-feature-scaling-in-the-pre-procesing"
   ]
  },
  {
   "cell_type": "markdown",
   "metadata": {},
   "source": [
    "https://www.kaggle.com/datasets/olistbr/brazilian-ecommerce/code"
   ]
  }
 ],
 "metadata": {
  "kernelspec": {
   "display_name": "Python 3",
   "language": "python",
   "name": "python3"
  },
  "language_info": {
   "codemirror_mode": {
    "name": "ipython",
    "version": 3
   },
   "file_extension": ".py",
   "mimetype": "text/x-python",
   "name": "python",
   "nbconvert_exporter": "python",
   "pygments_lexer": "ipython3",
   "version": "3.9.9"
  },
  "orig_nbformat": 4
 },
 "nbformat": 4,
 "nbformat_minor": 2
}
